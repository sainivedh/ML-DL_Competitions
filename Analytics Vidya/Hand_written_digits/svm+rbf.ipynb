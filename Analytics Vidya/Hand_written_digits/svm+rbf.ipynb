{
 "metadata": {
  "language_info": {
   "codemirror_mode": {
    "name": "ipython",
    "version": 3
   },
   "file_extension": ".py",
   "mimetype": "text/x-python",
   "name": "python",
   "nbconvert_exporter": "python",
   "pygments_lexer": "ipython3",
   "version": "3.7.4-final"
  },
  "orig_nbformat": 2,
  "kernelspec": {
   "name": "Python 3.7.4 64-bit ('base': conda)",
   "display_name": "Python 3.7.4 64-bit ('base': conda)",
   "metadata": {
    "interpreter": {
     "hash": "c6d9031e658debb2ea8943e06a648314df12deac922ea91a3af9df8928bf1d5c"
    }
   }
  }
 },
 "nbformat": 4,
 "nbformat_minor": 2,
 "cells": [
  {
   "cell_type": "code",
   "execution_count": 3,
   "metadata": {},
   "outputs": [],
   "source": [
    "import pandas as pd\n",
    "import numpy as np\n",
    "import matplotlib.pyplot as plt"
   ]
  },
  {
   "cell_type": "code",
   "execution_count": 67,
   "metadata": {},
   "outputs": [],
   "source": [
    "df = pd.read_csv('D:/Books/study/python/Analytics Vidya/mnist/Train/train.csv',index_col='filename')"
   ]
  },
  {
   "cell_type": "code",
   "execution_count": 68,
   "metadata": {},
   "outputs": [
    {
     "output_type": "execute_result",
     "data": {
      "text/plain": "          label\nfilename       \n0.png         4\n1.png         9\n2.png         1\n3.png         7\n4.png         3",
      "text/html": "<div>\n<style scoped>\n    .dataframe tbody tr th:only-of-type {\n        vertical-align: middle;\n    }\n\n    .dataframe tbody tr th {\n        vertical-align: top;\n    }\n\n    .dataframe thead th {\n        text-align: right;\n    }\n</style>\n<table border=\"1\" class=\"dataframe\">\n  <thead>\n    <tr style=\"text-align: right;\">\n      <th></th>\n      <th>label</th>\n    </tr>\n    <tr>\n      <th>filename</th>\n      <th></th>\n    </tr>\n  </thead>\n  <tbody>\n    <tr>\n      <td>0.png</td>\n      <td>4</td>\n    </tr>\n    <tr>\n      <td>1.png</td>\n      <td>9</td>\n    </tr>\n    <tr>\n      <td>2.png</td>\n      <td>1</td>\n    </tr>\n    <tr>\n      <td>3.png</td>\n      <td>7</td>\n    </tr>\n    <tr>\n      <td>4.png</td>\n      <td>3</td>\n    </tr>\n  </tbody>\n</table>\n</div>"
     },
     "metadata": {},
     "execution_count": 68
    }
   ],
   "source": [
    "df.head()"
   ]
  },
  {
   "cell_type": "code",
   "execution_count": 19,
   "metadata": {},
   "outputs": [],
   "source": [
    "file_name=df['filename']"
   ]
  },
  {
   "cell_type": "code",
   "execution_count": 20,
   "metadata": {},
   "outputs": [
    {
     "output_type": "execute_result",
     "data": {
      "text/plain": "0    0.png\n1    1.png\n2    2.png\n3    3.png\n4    4.png\n5    5.png\n6    6.png\n7    7.png\n8    8.png\n9    9.png\nName: filename, dtype: object"
     },
     "metadata": {},
     "execution_count": 20
    }
   ],
   "source": [
    "file_name[:10]"
   ]
  },
  {
   "cell_type": "code",
   "execution_count": 21,
   "metadata": {},
   "outputs": [
    {
     "output_type": "execute_result",
     "data": {
      "text/plain": "str"
     },
     "metadata": {},
     "execution_count": 21
    }
   ],
   "source": [
    "type(file_name[0])"
   ]
  },
  {
   "cell_type": "code",
   "execution_count": 22,
   "metadata": {},
   "outputs": [],
   "source": [
    "path = 'D:/Books/study/python/Analytics Vidya/mnist/Train/Images/train/'"
   ]
  },
  {
   "cell_type": "code",
   "execution_count": 23,
   "metadata": {},
   "outputs": [],
   "source": [
    "path = path + file_name[0]"
   ]
  },
  {
   "cell_type": "code",
   "execution_count": 26,
   "metadata": {},
   "outputs": [
    {
     "output_type": "execute_result",
     "data": {
      "text/plain": "-1"
     },
     "metadata": {},
     "execution_count": 26
    }
   ],
   "source": [
    "import cv2\n",
    "\n",
    "img = cv2.imread(path,0)\n",
    "cv2.imshow('Random',img)\n",
    "cv2.waitKey()"
   ]
  },
  {
   "cell_type": "code",
   "execution_count": 27,
   "metadata": {},
   "outputs": [
    {
     "output_type": "execute_result",
     "data": {
      "text/plain": "7737"
     },
     "metadata": {},
     "execution_count": 27
    }
   ],
   "source": [
    "import csv, os\n",
    "path = 'D:/Books/study/python/Analytics Vidya/mnist'\n",
    "os.chdir(path)\n",
    "file_out = open('dataset.csv','w',newline='')\n",
    "writer = csv.writer(file_out)\n",
    "header = ['label']\n",
    "for i in range(784):\n",
    "    header.append('pixel_'+str(i))\n",
    "writer.writerow(header)\n"
   ]
  },
  {
   "cell_type": "code",
   "execution_count": 78,
   "metadata": {},
   "outputs": [],
   "source": [
    "def create_dataset(path):\n",
    "    os.chdir(path)\n",
    "    header = []\n",
    "\n",
    "    for i in range(784):\n",
    "        header.append('pixel_'+str(i))\n",
    "    file_out = open('dataset_test.csv','w',newline='')\n",
    "    writer = csv.writer(file_out)\n",
    "    writer.writerow(header)\n",
    "\n",
    "    path_bef = 'D:/Books/study/python/Analytics Vidya/mnist/Train/Images/test/'\n",
    "    os.chdir(path_bef)\n",
    "    for i in os.scandir():\n",
    "        row = []\n",
    "        path_now = path_bef + i.name\n",
    "        img = cv2.imread(path_now,0)\n",
    "        rows,cols = img.shape\n",
    "        for j in range(rows):\n",
    "            for k in range(cols):\n",
    "                if img[j,k] > 100:\n",
    "                    row.append(1)\n",
    "                else:\n",
    "                    row.append(0)\n",
    "        writer.writerow(row)\n",
    "    file_out.close()"
   ]
  },
  {
   "cell_type": "code",
   "execution_count": 28,
   "metadata": {},
   "outputs": [],
   "source": [
    "file_out.close()"
   ]
  },
  {
   "cell_type": "code",
   "execution_count": 31,
   "metadata": {},
   "outputs": [
    {
     "output_type": "execute_result",
     "data": {
      "text/plain": "  filename  label\n0    0.png      4\n1    1.png      9\n2    2.png      1\n3    3.png      7\n4    4.png      3",
      "text/html": "<div>\n<style scoped>\n    .dataframe tbody tr th:only-of-type {\n        vertical-align: middle;\n    }\n\n    .dataframe tbody tr th {\n        vertical-align: top;\n    }\n\n    .dataframe thead th {\n        text-align: right;\n    }\n</style>\n<table border=\"1\" class=\"dataframe\">\n  <thead>\n    <tr style=\"text-align: right;\">\n      <th></th>\n      <th>filename</th>\n      <th>label</th>\n    </tr>\n  </thead>\n  <tbody>\n    <tr>\n      <td>0</td>\n      <td>0.png</td>\n      <td>4</td>\n    </tr>\n    <tr>\n      <td>1</td>\n      <td>1.png</td>\n      <td>9</td>\n    </tr>\n    <tr>\n      <td>2</td>\n      <td>2.png</td>\n      <td>1</td>\n    </tr>\n    <tr>\n      <td>3</td>\n      <td>3.png</td>\n      <td>7</td>\n    </tr>\n    <tr>\n      <td>4</td>\n      <td>4.png</td>\n      <td>3</td>\n    </tr>\n  </tbody>\n</table>\n</div>"
     },
     "metadata": {},
     "execution_count": 31
    }
   ],
   "source": [
    "df['']"
   ]
  },
  {
   "cell_type": "code",
   "execution_count": 62,
   "metadata": {},
   "outputs": [],
   "source": [
    "df = pd.read_csv('D:/Books/study/python/Analytics Vidya/mnist/dataset.csv')"
   ]
  },
  {
   "cell_type": "code",
   "execution_count": 63,
   "metadata": {},
   "outputs": [
    {
     "output_type": "execute_result",
     "data": {
      "text/plain": "   label    4\\nName: 0.png, dtype: int64  0  0.1  0.2  0.3  0.4  0.5  0.6  \\\n0  label    9\\nName: 1.png, dtype: int64  0    0    0    0    0    0    0   \n1  label    1\\nName: 2.png, dtype: int64  0    0    0    0    0    0    0   \n2  label    7\\nName: 3.png, dtype: int64  0    0    0    0    0    0    0   \n3  label    3\\nName: 4.png, dtype: int64  0    0    0    0    0    0    0   \n4  label    9\\nName: 5.png, dtype: int64  0    0    0    0    0    0    0   \n\n   0.7  0.8  ...  0.645  0.646  0.647  0.648  0.649  0.650  0.651  0.652  \\\n0    0    0  ...      0      0      0      0      0      0      0      0   \n1    0    0  ...      0      0      0      0      0      0      0      0   \n2    0    0  ...      0      0      0      0      0      0      0      0   \n3    0    0  ...      0      0      0      0      0      0      0      0   \n4    0    0  ...      0      0      0      0      0      0      0      0   \n\n   0.653  0.654  \n0      0      0  \n1      0      0  \n2      0      0  \n3      0      0  \n4      0      0  \n\n[5 rows x 785 columns]",
      "text/html": "<div>\n<style scoped>\n    .dataframe tbody tr th:only-of-type {\n        vertical-align: middle;\n    }\n\n    .dataframe tbody tr th {\n        vertical-align: top;\n    }\n\n    .dataframe thead th {\n        text-align: right;\n    }\n</style>\n<table border=\"1\" class=\"dataframe\">\n  <thead>\n    <tr style=\"text-align: right;\">\n      <th></th>\n      <th>label    4\\nName: 0.png, dtype: int64</th>\n      <th>0</th>\n      <th>0.1</th>\n      <th>0.2</th>\n      <th>0.3</th>\n      <th>0.4</th>\n      <th>0.5</th>\n      <th>0.6</th>\n      <th>0.7</th>\n      <th>0.8</th>\n      <th>...</th>\n      <th>0.645</th>\n      <th>0.646</th>\n      <th>0.647</th>\n      <th>0.648</th>\n      <th>0.649</th>\n      <th>0.650</th>\n      <th>0.651</th>\n      <th>0.652</th>\n      <th>0.653</th>\n      <th>0.654</th>\n    </tr>\n  </thead>\n  <tbody>\n    <tr>\n      <td>0</td>\n      <td>label    9\\nName: 1.png, dtype: int64</td>\n      <td>0</td>\n      <td>0</td>\n      <td>0</td>\n      <td>0</td>\n      <td>0</td>\n      <td>0</td>\n      <td>0</td>\n      <td>0</td>\n      <td>0</td>\n      <td>...</td>\n      <td>0</td>\n      <td>0</td>\n      <td>0</td>\n      <td>0</td>\n      <td>0</td>\n      <td>0</td>\n      <td>0</td>\n      <td>0</td>\n      <td>0</td>\n      <td>0</td>\n    </tr>\n    <tr>\n      <td>1</td>\n      <td>label    1\\nName: 2.png, dtype: int64</td>\n      <td>0</td>\n      <td>0</td>\n      <td>0</td>\n      <td>0</td>\n      <td>0</td>\n      <td>0</td>\n      <td>0</td>\n      <td>0</td>\n      <td>0</td>\n      <td>...</td>\n      <td>0</td>\n      <td>0</td>\n      <td>0</td>\n      <td>0</td>\n      <td>0</td>\n      <td>0</td>\n      <td>0</td>\n      <td>0</td>\n      <td>0</td>\n      <td>0</td>\n    </tr>\n    <tr>\n      <td>2</td>\n      <td>label    7\\nName: 3.png, dtype: int64</td>\n      <td>0</td>\n      <td>0</td>\n      <td>0</td>\n      <td>0</td>\n      <td>0</td>\n      <td>0</td>\n      <td>0</td>\n      <td>0</td>\n      <td>0</td>\n      <td>...</td>\n      <td>0</td>\n      <td>0</td>\n      <td>0</td>\n      <td>0</td>\n      <td>0</td>\n      <td>0</td>\n      <td>0</td>\n      <td>0</td>\n      <td>0</td>\n      <td>0</td>\n    </tr>\n    <tr>\n      <td>3</td>\n      <td>label    3\\nName: 4.png, dtype: int64</td>\n      <td>0</td>\n      <td>0</td>\n      <td>0</td>\n      <td>0</td>\n      <td>0</td>\n      <td>0</td>\n      <td>0</td>\n      <td>0</td>\n      <td>0</td>\n      <td>...</td>\n      <td>0</td>\n      <td>0</td>\n      <td>0</td>\n      <td>0</td>\n      <td>0</td>\n      <td>0</td>\n      <td>0</td>\n      <td>0</td>\n      <td>0</td>\n      <td>0</td>\n    </tr>\n    <tr>\n      <td>4</td>\n      <td>label    9\\nName: 5.png, dtype: int64</td>\n      <td>0</td>\n      <td>0</td>\n      <td>0</td>\n      <td>0</td>\n      <td>0</td>\n      <td>0</td>\n      <td>0</td>\n      <td>0</td>\n      <td>0</td>\n      <td>...</td>\n      <td>0</td>\n      <td>0</td>\n      <td>0</td>\n      <td>0</td>\n      <td>0</td>\n      <td>0</td>\n      <td>0</td>\n      <td>0</td>\n      <td>0</td>\n      <td>0</td>\n    </tr>\n  </tbody>\n</table>\n<p>5 rows × 785 columns</p>\n</div>"
     },
     "metadata": {},
     "execution_count": 63
    }
   ],
   "source": [
    "df.head()"
   ]
  },
  {
   "cell_type": "code",
   "execution_count": 71,
   "metadata": {},
   "outputs": [],
   "source": [
    "a = []\n",
    "for i in range(10):\n",
    "    a.append(df.iloc[i,[0]][0])"
   ]
  },
  {
   "cell_type": "code",
   "execution_count": 72,
   "metadata": {},
   "outputs": [
    {
     "output_type": "execute_result",
     "data": {
      "text/plain": "[4, 9, 1, 7, 3, 9, 4, 9, 3, 4]"
     },
     "metadata": {},
     "execution_count": 72
    }
   ],
   "source": [
    "a"
   ]
  },
  {
   "cell_type": "code",
   "execution_count": 73,
   "metadata": {},
   "outputs": [
    {
     "output_type": "execute_result",
     "data": {
      "text/plain": "4"
     },
     "metadata": {},
     "execution_count": 73
    }
   ],
   "source": [
    "df.loc['0.png',['label']][0]"
   ]
  },
  {
   "cell_type": "code",
   "execution_count": 77,
   "metadata": {
    "tags": []
   },
   "outputs": [
    {
     "output_type": "stream",
     "name": "stdout",
     "text": "dataset.csv\nTrain\nTrain_UQcUa52.zip\n"
    }
   ],
   "source": [
    "path = 'D:\\Books\\study\\python\\Analytics Vidya\\mnist'\n",
    "os.chdir(path)\n",
    "for f in os.scandir():\n",
    "    print(f.name)"
   ]
  },
  {
   "cell_type": "code",
   "execution_count": 79,
   "metadata": {},
   "outputs": [],
   "source": [
    "create_dataset('D:\\Books\\study\\python\\Analytics Vidya\\mnist')"
   ]
  },
  {
   "cell_type": "code",
   "execution_count": 4,
   "metadata": {},
   "outputs": [],
   "source": [
    "df = pd.read_csv('D:\\Books\\study\\python\\Analytics Vidya\\mnist\\dataset.csv')"
   ]
  },
  {
   "cell_type": "code",
   "execution_count": 5,
   "metadata": {},
   "outputs": [],
   "source": [
    "X = df.drop(['label'],axis=1).values\n",
    "Y = df['label'].values"
   ]
  },
  {
   "cell_type": "code",
   "execution_count": 8,
   "metadata": {},
   "outputs": [
    {
     "output_type": "execute_result",
     "data": {
      "text/plain": "SVC(C=1.0, cache_size=200, class_weight=None, coef0=0.0,\n    decision_function_shape='ovr', degree=3, gamma='auto_deprecated',\n    kernel='rbf', max_iter=-1, probability=False, random_state=None,\n    shrinking=True, tol=0.001, verbose=False)"
     },
     "metadata": {},
     "execution_count": 8
    }
   ],
   "source": [
    "from sklearn.svm import SVC\n",
    "model = SVC()\n",
    "model.fit(X,Y)"
   ]
  },
  {
   "cell_type": "code",
   "execution_count": 11,
   "metadata": {},
   "outputs": [],
   "source": [
    "path = 'D:\\Books\\study\\python\\Analytics Vidya\\mnist\\model'"
   ]
  },
  {
   "cell_type": "code",
   "execution_count": 13,
   "metadata": {
    "tags": []
   },
   "outputs": [
    {
     "output_type": "execute_result",
     "data": {
      "text/plain": "['D:\\\\Books\\\\study\\\\python\\\\Analytics Vidya\\\\mnist\\\\model']"
     },
     "metadata": {},
     "execution_count": 13
    }
   ],
   "source": [
    "import joblib\n",
    "joblib.dump(model,path)"
   ]
  },
  {
   "cell_type": "code",
   "execution_count": 15,
   "metadata": {},
   "outputs": [],
   "source": [
    "X_test = pd.read_csv('D:\\Books\\study\\python\\Analytics Vidya\\mnist\\dataset_test.csv').values"
   ]
  },
  {
   "cell_type": "code",
   "execution_count": 16,
   "metadata": {},
   "outputs": [],
   "source": [
    "y_pred = model.predict(X_test)"
   ]
  },
  {
   "cell_type": "code",
   "execution_count": 18,
   "metadata": {},
   "outputs": [],
   "source": [
    "col_1 = pd.read_csv('D:\\Books\\study\\python\\Analytics Vidya\\Test_fCbTej3_0j1gHmj.csv')"
   ]
  },
  {
   "cell_type": "code",
   "execution_count": 20,
   "metadata": {},
   "outputs": [
    {
     "output_type": "execute_result",
     "data": {
      "text/plain": "array([['49000.png'],\n       ['49001.png'],\n       ['49002.png'],\n       ['49003.png'],\n       ['49004.png']], dtype=object)"
     },
     "metadata": {},
     "execution_count": 20
    }
   ],
   "source": [
    "col_1.head().values"
   ]
  },
  {
   "cell_type": "code",
   "execution_count": 24,
   "metadata": {},
   "outputs": [],
   "source": [
    "col_1['label'] = y_pred"
   ]
  },
  {
   "cell_type": "code",
   "execution_count": 25,
   "metadata": {},
   "outputs": [
    {
     "output_type": "execute_result",
     "data": {
      "text/plain": "    filename  label\n0  49000.png      4\n1  49001.png      0\n2  49002.png      9\n3  49003.png      7\n4  49004.png      9",
      "text/html": "<div>\n<style scoped>\n    .dataframe tbody tr th:only-of-type {\n        vertical-align: middle;\n    }\n\n    .dataframe tbody tr th {\n        vertical-align: top;\n    }\n\n    .dataframe thead th {\n        text-align: right;\n    }\n</style>\n<table border=\"1\" class=\"dataframe\">\n  <thead>\n    <tr style=\"text-align: right;\">\n      <th></th>\n      <th>filename</th>\n      <th>label</th>\n    </tr>\n  </thead>\n  <tbody>\n    <tr>\n      <td>0</td>\n      <td>49000.png</td>\n      <td>4</td>\n    </tr>\n    <tr>\n      <td>1</td>\n      <td>49001.png</td>\n      <td>0</td>\n    </tr>\n    <tr>\n      <td>2</td>\n      <td>49002.png</td>\n      <td>9</td>\n    </tr>\n    <tr>\n      <td>3</td>\n      <td>49003.png</td>\n      <td>7</td>\n    </tr>\n    <tr>\n      <td>4</td>\n      <td>49004.png</td>\n      <td>9</td>\n    </tr>\n  </tbody>\n</table>\n</div>"
     },
     "metadata": {},
     "execution_count": 25
    }
   ],
   "source": [
    "col_1.head()"
   ]
  },
  {
   "cell_type": "code",
   "execution_count": 27,
   "metadata": {},
   "outputs": [],
   "source": [
    "pd.DataFrame(col_1).to_csv('D:\\Books\\study\\python\\Analytics Vidya\\mnist\\submission.csv',columns=['filename','label'],index=None)"
   ]
  },
  {
   "cell_type": "code",
   "execution_count": null,
   "metadata": {},
   "outputs": [],
   "source": []
  }
 ]
}