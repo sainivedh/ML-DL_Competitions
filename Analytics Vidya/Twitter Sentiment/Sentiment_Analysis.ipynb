{
 "metadata": {
  "language_info": {
   "codemirror_mode": {
    "name": "ipython",
    "version": 3
   },
   "file_extension": ".py",
   "mimetype": "text/x-python",
   "name": "python",
   "nbconvert_exporter": "python",
   "pygments_lexer": "ipython3",
   "version": "3.7.4-final"
  },
  "orig_nbformat": 2,
  "kernelspec": {
   "name": "Python 3.7.4 64-bit ('base': conda)",
   "display_name": "Python 3.7.4 64-bit ('base': conda)",
   "metadata": {
    "interpreter": {
     "hash": "c6d9031e658debb2ea8943e06a648314df12deac922ea91a3af9df8928bf1d5c"
    }
   }
  }
 },
 "nbformat": 4,
 "nbformat_minor": 2,
 "cells": [
  {
   "cell_type": "code",
   "execution_count": 1,
   "metadata": {},
   "outputs": [],
   "source": [
    "import pandas as pd\n",
    "import csv\n",
    "import nltk\n",
    "from nltk import word_tokenize\n",
    "from nltk.corpus import stopwords\n",
    "import re"
   ]
  },
  {
   "cell_type": "code",
   "execution_count": 2,
   "metadata": {},
   "outputs": [],
   "source": [
    "df = pd.read_csv('train.csv')"
   ]
  },
  {
   "cell_type": "code",
   "execution_count": 3,
   "metadata": {},
   "outputs": [
    {
     "output_type": "execute_result",
     "data": {
      "text/plain": "   id  label                                              tweet\n0   1      0  #fingerprint #Pregnancy Test https://goo.gl/h1...\n1   2      0  Finally a transparant silicon case ^^ Thanks t...\n2   3      0  We love this! Would you go? #talk #makememorie...\n3   4      0  I'm wired I know I'm George I was made that wa...\n4   5      1  What amazing service! Apple won't even talk to...",
      "text/html": "<div>\n<style scoped>\n    .dataframe tbody tr th:only-of-type {\n        vertical-align: middle;\n    }\n\n    .dataframe tbody tr th {\n        vertical-align: top;\n    }\n\n    .dataframe thead th {\n        text-align: right;\n    }\n</style>\n<table border=\"1\" class=\"dataframe\">\n  <thead>\n    <tr style=\"text-align: right;\">\n      <th></th>\n      <th>id</th>\n      <th>label</th>\n      <th>tweet</th>\n    </tr>\n  </thead>\n  <tbody>\n    <tr>\n      <td>0</td>\n      <td>1</td>\n      <td>0</td>\n      <td>#fingerprint #Pregnancy Test https://goo.gl/h1...</td>\n    </tr>\n    <tr>\n      <td>1</td>\n      <td>2</td>\n      <td>0</td>\n      <td>Finally a transparant silicon case ^^ Thanks t...</td>\n    </tr>\n    <tr>\n      <td>2</td>\n      <td>3</td>\n      <td>0</td>\n      <td>We love this! Would you go? #talk #makememorie...</td>\n    </tr>\n    <tr>\n      <td>3</td>\n      <td>4</td>\n      <td>0</td>\n      <td>I'm wired I know I'm George I was made that wa...</td>\n    </tr>\n    <tr>\n      <td>4</td>\n      <td>5</td>\n      <td>1</td>\n      <td>What amazing service! Apple won't even talk to...</td>\n    </tr>\n  </tbody>\n</table>\n</div>"
     },
     "metadata": {},
     "execution_count": 3
    }
   ],
   "source": [
    "df.head()"
   ]
  },
  {
   "cell_type": "code",
   "execution_count": 4,
   "metadata": {},
   "outputs": [],
   "source": [
    "df = df.drop(['id'],axis=1)"
   ]
  },
  {
   "cell_type": "code",
   "execution_count": 5,
   "metadata": {},
   "outputs": [
    {
     "output_type": "execute_result",
     "data": {
      "text/plain": "   label                                              tweet\n0      0  #fingerprint #Pregnancy Test https://goo.gl/h1...\n1      0  Finally a transparant silicon case ^^ Thanks t...\n2      0  We love this! Would you go? #talk #makememorie...\n3      0  I'm wired I know I'm George I was made that wa...\n4      1  What amazing service! Apple won't even talk to...",
      "text/html": "<div>\n<style scoped>\n    .dataframe tbody tr th:only-of-type {\n        vertical-align: middle;\n    }\n\n    .dataframe tbody tr th {\n        vertical-align: top;\n    }\n\n    .dataframe thead th {\n        text-align: right;\n    }\n</style>\n<table border=\"1\" class=\"dataframe\">\n  <thead>\n    <tr style=\"text-align: right;\">\n      <th></th>\n      <th>label</th>\n      <th>tweet</th>\n    </tr>\n  </thead>\n  <tbody>\n    <tr>\n      <td>0</td>\n      <td>0</td>\n      <td>#fingerprint #Pregnancy Test https://goo.gl/h1...</td>\n    </tr>\n    <tr>\n      <td>1</td>\n      <td>0</td>\n      <td>Finally a transparant silicon case ^^ Thanks t...</td>\n    </tr>\n    <tr>\n      <td>2</td>\n      <td>0</td>\n      <td>We love this! Would you go? #talk #makememorie...</td>\n    </tr>\n    <tr>\n      <td>3</td>\n      <td>0</td>\n      <td>I'm wired I know I'm George I was made that wa...</td>\n    </tr>\n    <tr>\n      <td>4</td>\n      <td>1</td>\n      <td>What amazing service! Apple won't even talk to...</td>\n    </tr>\n  </tbody>\n</table>\n</div>"
     },
     "metadata": {},
     "execution_count": 5
    }
   ],
   "source": [
    "df.head()"
   ]
  },
  {
   "cell_type": "code",
   "execution_count": 6,
   "metadata": {},
   "outputs": [],
   "source": [
    "stop_words = stopwords.words(\"english\")"
   ]
  },
  {
   "cell_type": "code",
   "execution_count": 7,
   "metadata": {},
   "outputs": [],
   "source": [
    "def clean_data(tweet_text):\n",
    "\n",
    "    url_regex_patter = r\"(https?:\\/\\/(?:www\\.|(?!www))[a-zA-Z0-9][a-zA-Z0-9-]+[a-zA-Z0-9]\\.[^\\s]{2,}|www\\.[a-zA-Z0-9][a-zA-Z0-9-]+[a-zA-Z0-9]\\.[^\\s]{2,}|https?:\\/\\/(?:www\\.|(?!www))[a-zA-Z0-9]+\\.[^\\s]{2,}|www\\.[a-zA-Z0-9]+\\.[^\\s]{2,})\"\n",
    "    clean_text = re.sub(url_regex_patter,\"\",tweet_text)\n",
    "    clean_text = re.sub(\"@\\S+\",\"\",clean_text)\n",
    "    clean_text = re.sub(\"RT\",\"\",clean_text)\n",
    "    words_list = word_tokenize(clean_text)\n",
    "    clean_words = []\n",
    "\n",
    "    for word in words_list:\n",
    "        if word.isalpha() and word not in stop_words and len(word) > 3:\n",
    "            clean_words.append(word)\n",
    "\n",
    "\n",
    "    return ' '.join(clean_words)"
   ]
  },
  {
   "cell_type": "code",
   "execution_count": 8,
   "metadata": {},
   "outputs": [],
   "source": [
    "df['tweet'] = df['tweet'].apply(clean_data)"
   ]
  },
  {
   "cell_type": "code",
   "execution_count": 21,
   "metadata": {},
   "outputs": [],
   "source": [
    "pd.DataFrame(df).to_csv('D:\\Books\\study\\python\\Analytics Vidya\\Twitter sentiment\\clean_dataset.csv',columns=['label','tweet'],index=None)"
   ]
  },
  {
   "cell_type": "code",
   "execution_count": 9,
   "metadata": {},
   "outputs": [
    {
     "output_type": "execute_result",
     "data": {
      "text/plain": "   label                                              tweet\n0      0  fingerprint Pregnancy Test android apps beauti...\n1      0  Finally transparant silicon case Thanks uncle ...\n2      0  love Would talk makememories unplug relax ipho...\n3      0   wired know George made iphone cute daventry home\n4      1  What amazing service Apple even talk question ...",
      "text/html": "<div>\n<style scoped>\n    .dataframe tbody tr th:only-of-type {\n        vertical-align: middle;\n    }\n\n    .dataframe tbody tr th {\n        vertical-align: top;\n    }\n\n    .dataframe thead th {\n        text-align: right;\n    }\n</style>\n<table border=\"1\" class=\"dataframe\">\n  <thead>\n    <tr style=\"text-align: right;\">\n      <th></th>\n      <th>label</th>\n      <th>tweet</th>\n    </tr>\n  </thead>\n  <tbody>\n    <tr>\n      <td>0</td>\n      <td>0</td>\n      <td>fingerprint Pregnancy Test android apps beauti...</td>\n    </tr>\n    <tr>\n      <td>1</td>\n      <td>0</td>\n      <td>Finally transparant silicon case Thanks uncle ...</td>\n    </tr>\n    <tr>\n      <td>2</td>\n      <td>0</td>\n      <td>love Would talk makememories unplug relax ipho...</td>\n    </tr>\n    <tr>\n      <td>3</td>\n      <td>0</td>\n      <td>wired know George made iphone cute daventry home</td>\n    </tr>\n    <tr>\n      <td>4</td>\n      <td>1</td>\n      <td>What amazing service Apple even talk question ...</td>\n    </tr>\n  </tbody>\n</table>\n</div>"
     },
     "metadata": {},
     "execution_count": 9
    }
   ],
   "source": [
    "df.head()"
   ]
  },
  {
   "cell_type": "code",
   "execution_count": 10,
   "metadata": {},
   "outputs": [],
   "source": [
    "X_train = df['tweet'].values\n",
    "Y_train = df['label'].values"
   ]
  },
  {
   "cell_type": "code",
   "execution_count": 12,
   "metadata": {},
   "outputs": [
    {
     "output_type": "execute_result",
     "data": {
      "text/plain": "array(['fingerprint Pregnancy Test android apps beautiful cute health igers iphoneonly iphonesia iphone',\n       'Finally transparant silicon case Thanks uncle Sony Xperia',\n       'love Would talk makememories unplug relax iphone smartphone wifi connect',\n       'wired know George made iphone cute daventry home',\n       'What amazing service Apple even talk question unless stupid support',\n       'iPhone software update fucked phone time Stupid iPhones',\n       'Happy instapic instadaily sony xperia xperiaZ',\n       'Type charger cable Amazon etsy Year Cross Toby Young EVEMUN McMafia Taylor SPECTRE NewYear Starting recipes technology iPhoneX',\n       'Bout shopping listening music iphone justme music likeforlike',\n       'Photo selfie pool water sony camera picoftheday instagood cute outdoor'],\n      dtype=object)"
     },
     "metadata": {},
     "execution_count": 12
    }
   ],
   "source": [
    "X_train[:10]"
   ]
  },
  {
   "cell_type": "code",
   "execution_count": 11,
   "metadata": {},
   "outputs": [],
   "source": [
    "from sklearn.feature_extraction.text import CountVectorizer\n",
    "vectorizer = CountVectorizer()\n",
    "test_mat = vectorizer.fit_transform(X_train)\n",
    "data_mat = test_mat.toarray()"
   ]
  },
  {
   "cell_type": "code",
   "execution_count": 12,
   "metadata": {},
   "outputs": [
    {
     "output_type": "execute_result",
     "data": {
      "text/plain": "SGDClassifier(alpha=0.0001, average=False, class_weight=None,\n              early_stopping=False, epsilon=0.1, eta0=0.0, fit_intercept=True,\n              l1_ratio=0.15, learning_rate='optimal', loss='hinge',\n              max_iter=1000, n_iter_no_change=5, n_jobs=None, penalty='l2',\n              power_t=0.5, random_state=None, shuffle=True, tol=0.001,\n              validation_fraction=0.1, verbose=0, warm_start=False)"
     },
     "metadata": {},
     "execution_count": 12
    }
   ],
   "source": [
    "from sklearn.linear_model import SGDClassifier\n",
    "model = SGDClassifier()\n",
    "model.fit(data_mat,Y_train)"
   ]
  },
  {
   "cell_type": "code",
   "execution_count": 13,
   "metadata": {},
   "outputs": [
    {
     "output_type": "execute_result",
     "data": {
      "text/plain": "0.9888888888888889"
     },
     "metadata": {},
     "execution_count": 13
    }
   ],
   "source": [
    "model.score(data_mat,Y_train)"
   ]
  },
  {
   "cell_type": "code",
   "execution_count": 19,
   "metadata": {},
   "outputs": [],
   "source": [
    "df_test = pd.read_csv('test.csv')"
   ]
  },
  {
   "cell_type": "code",
   "execution_count": 20,
   "metadata": {},
   "outputs": [
    {
     "output_type": "execute_result",
     "data": {
      "text/plain": "     id                                              tweet\n0  7921  I hate the new #iphone upgrade. Won't let me d...\n1  7922  currently shitting my fucking pants. #apple #i...\n2  7923  I'd like to puts some CD-ROMS on my iPad, is t...\n3  7924  My ipod is officially dead. I lost all my pict...\n4  7925  Been fighting iTunes all night! I only want th...",
      "text/html": "<div>\n<style scoped>\n    .dataframe tbody tr th:only-of-type {\n        vertical-align: middle;\n    }\n\n    .dataframe tbody tr th {\n        vertical-align: top;\n    }\n\n    .dataframe thead th {\n        text-align: right;\n    }\n</style>\n<table border=\"1\" class=\"dataframe\">\n  <thead>\n    <tr style=\"text-align: right;\">\n      <th></th>\n      <th>id</th>\n      <th>tweet</th>\n    </tr>\n  </thead>\n  <tbody>\n    <tr>\n      <td>0</td>\n      <td>7921</td>\n      <td>I hate the new #iphone upgrade. Won't let me d...</td>\n    </tr>\n    <tr>\n      <td>1</td>\n      <td>7922</td>\n      <td>currently shitting my fucking pants. #apple #i...</td>\n    </tr>\n    <tr>\n      <td>2</td>\n      <td>7923</td>\n      <td>I'd like to puts some CD-ROMS on my iPad, is t...</td>\n    </tr>\n    <tr>\n      <td>3</td>\n      <td>7924</td>\n      <td>My ipod is officially dead. I lost all my pict...</td>\n    </tr>\n    <tr>\n      <td>4</td>\n      <td>7925</td>\n      <td>Been fighting iTunes all night! I only want th...</td>\n    </tr>\n  </tbody>\n</table>\n</div>"
     },
     "metadata": {},
     "execution_count": 20
    }
   ],
   "source": [
    "df_test.head()"
   ]
  },
  {
   "cell_type": "code",
   "execution_count": 21,
   "metadata": {},
   "outputs": [],
   "source": [
    "df_test['tweet'] = df_test['tweet'].apply(clean_data)"
   ]
  },
  {
   "cell_type": "code",
   "execution_count": 22,
   "metadata": {},
   "outputs": [
    {
     "output_type": "execute_result",
     "data": {
      "text/plain": "     id                                              tweet\n0  7921      hate iphone upgrade download apps apple sucks\n1  7922  currently shitting fucking pants apple iMac ca...\n2  7923         like puts iPad possible would block screen\n3  7924  ipod officially dead lost pictures videos conc...\n4  7925         Been fighting iTunes night want music paid",
      "text/html": "<div>\n<style scoped>\n    .dataframe tbody tr th:only-of-type {\n        vertical-align: middle;\n    }\n\n    .dataframe tbody tr th {\n        vertical-align: top;\n    }\n\n    .dataframe thead th {\n        text-align: right;\n    }\n</style>\n<table border=\"1\" class=\"dataframe\">\n  <thead>\n    <tr style=\"text-align: right;\">\n      <th></th>\n      <th>id</th>\n      <th>tweet</th>\n    </tr>\n  </thead>\n  <tbody>\n    <tr>\n      <td>0</td>\n      <td>7921</td>\n      <td>hate iphone upgrade download apps apple sucks</td>\n    </tr>\n    <tr>\n      <td>1</td>\n      <td>7922</td>\n      <td>currently shitting fucking pants apple iMac ca...</td>\n    </tr>\n    <tr>\n      <td>2</td>\n      <td>7923</td>\n      <td>like puts iPad possible would block screen</td>\n    </tr>\n    <tr>\n      <td>3</td>\n      <td>7924</td>\n      <td>ipod officially dead lost pictures videos conc...</td>\n    </tr>\n    <tr>\n      <td>4</td>\n      <td>7925</td>\n      <td>Been fighting iTunes night want music paid</td>\n    </tr>\n  </tbody>\n</table>\n</div>"
     },
     "metadata": {},
     "execution_count": 22
    }
   ],
   "source": [
    "df_test.head()"
   ]
  },
  {
   "cell_type": "code",
   "execution_count": 23,
   "metadata": {},
   "outputs": [],
   "source": [
    "X_test = df_test['tweet'].values"
   ]
  },
  {
   "cell_type": "code",
   "execution_count": 24,
   "metadata": {},
   "outputs": [
    {
     "output_type": "execute_result",
     "data": {
      "text/plain": "array(['hate iphone upgrade download apps apple sucks',\n       'currently shitting fucking pants apple iMac cashmoney raddest swagswagswag',\n       'like puts iPad possible would block screen',\n       'ipod officially dead lost pictures videos concert Camp hatinglife sobbing',\n       'Been fighting iTunes night want music paid',\n       'Repost repostapp announce apple',\n       'This apple software update really things phone things apple',\n       'BABY iPhone gold apple appleisbest gegönnt aaaaah',\n       'confused take time appointment still waiting minutes fact',\n       'Fruit tastes better pick apple healthy fruit'], dtype=object)"
     },
     "metadata": {},
     "execution_count": 24
    }
   ],
   "source": [
    "X_test[:10]"
   ]
  },
  {
   "cell_type": "code",
   "execution_count": 25,
   "metadata": {},
   "outputs": [],
   "source": [
    "test_datamat = vectorizer.transform(X_test)\n",
    "test_mat = test_datamat.toarray()"
   ]
  },
  {
   "cell_type": "code",
   "execution_count": 39,
   "metadata": {},
   "outputs": [],
   "source": [
    "y_pred = model.predict(test_mat)"
   ]
  },
  {
   "cell_type": "code",
   "execution_count": 40,
   "metadata": {},
   "outputs": [],
   "source": [
    "df_test = df_test.drop(['tweet'],axis=1)"
   ]
  },
  {
   "cell_type": "code",
   "execution_count": 41,
   "metadata": {},
   "outputs": [
    {
     "output_type": "execute_result",
     "data": {
      "text/plain": "     id\n0  7921\n1  7922\n2  7923\n3  7924\n4  7925",
      "text/html": "<div>\n<style scoped>\n    .dataframe tbody tr th:only-of-type {\n        vertical-align: middle;\n    }\n\n    .dataframe tbody tr th {\n        vertical-align: top;\n    }\n\n    .dataframe thead th {\n        text-align: right;\n    }\n</style>\n<table border=\"1\" class=\"dataframe\">\n  <thead>\n    <tr style=\"text-align: right;\">\n      <th></th>\n      <th>id</th>\n    </tr>\n  </thead>\n  <tbody>\n    <tr>\n      <td>0</td>\n      <td>7921</td>\n    </tr>\n    <tr>\n      <td>1</td>\n      <td>7922</td>\n    </tr>\n    <tr>\n      <td>2</td>\n      <td>7923</td>\n    </tr>\n    <tr>\n      <td>3</td>\n      <td>7924</td>\n    </tr>\n    <tr>\n      <td>4</td>\n      <td>7925</td>\n    </tr>\n  </tbody>\n</table>\n</div>"
     },
     "metadata": {},
     "execution_count": 41
    }
   ],
   "source": [
    "df_test.head()"
   ]
  },
  {
   "cell_type": "code",
   "execution_count": 42,
   "metadata": {},
   "outputs": [],
   "source": [
    "df_test['label'] = y_pred"
   ]
  },
  {
   "cell_type": "code",
   "execution_count": 44,
   "metadata": {},
   "outputs": [
    {
     "output_type": "execute_result",
     "data": {
      "text/plain": "      id  label\n0   7921      1\n1   7922      1\n2   7923      1\n3   7924      1\n4   7925      1\n5   7926      0\n6   7927      1\n7   7928      0\n8   7929      1\n9   7930      0\n10  7931      0\n11  7932      0\n12  7933      0\n13  7934      0\n14  7935      0\n15  7936      0\n16  7937      0\n17  7938      1\n18  7939      1\n19  7940      0",
      "text/html": "<div>\n<style scoped>\n    .dataframe tbody tr th:only-of-type {\n        vertical-align: middle;\n    }\n\n    .dataframe tbody tr th {\n        vertical-align: top;\n    }\n\n    .dataframe thead th {\n        text-align: right;\n    }\n</style>\n<table border=\"1\" class=\"dataframe\">\n  <thead>\n    <tr style=\"text-align: right;\">\n      <th></th>\n      <th>id</th>\n      <th>label</th>\n    </tr>\n  </thead>\n  <tbody>\n    <tr>\n      <td>0</td>\n      <td>7921</td>\n      <td>1</td>\n    </tr>\n    <tr>\n      <td>1</td>\n      <td>7922</td>\n      <td>1</td>\n    </tr>\n    <tr>\n      <td>2</td>\n      <td>7923</td>\n      <td>1</td>\n    </tr>\n    <tr>\n      <td>3</td>\n      <td>7924</td>\n      <td>1</td>\n    </tr>\n    <tr>\n      <td>4</td>\n      <td>7925</td>\n      <td>1</td>\n    </tr>\n    <tr>\n      <td>5</td>\n      <td>7926</td>\n      <td>0</td>\n    </tr>\n    <tr>\n      <td>6</td>\n      <td>7927</td>\n      <td>1</td>\n    </tr>\n    <tr>\n      <td>7</td>\n      <td>7928</td>\n      <td>0</td>\n    </tr>\n    <tr>\n      <td>8</td>\n      <td>7929</td>\n      <td>1</td>\n    </tr>\n    <tr>\n      <td>9</td>\n      <td>7930</td>\n      <td>0</td>\n    </tr>\n    <tr>\n      <td>10</td>\n      <td>7931</td>\n      <td>0</td>\n    </tr>\n    <tr>\n      <td>11</td>\n      <td>7932</td>\n      <td>0</td>\n    </tr>\n    <tr>\n      <td>12</td>\n      <td>7933</td>\n      <td>0</td>\n    </tr>\n    <tr>\n      <td>13</td>\n      <td>7934</td>\n      <td>0</td>\n    </tr>\n    <tr>\n      <td>14</td>\n      <td>7935</td>\n      <td>0</td>\n    </tr>\n    <tr>\n      <td>15</td>\n      <td>7936</td>\n      <td>0</td>\n    </tr>\n    <tr>\n      <td>16</td>\n      <td>7937</td>\n      <td>0</td>\n    </tr>\n    <tr>\n      <td>17</td>\n      <td>7938</td>\n      <td>1</td>\n    </tr>\n    <tr>\n      <td>18</td>\n      <td>7939</td>\n      <td>1</td>\n    </tr>\n    <tr>\n      <td>19</td>\n      <td>7940</td>\n      <td>0</td>\n    </tr>\n  </tbody>\n</table>\n</div>"
     },
     "metadata": {},
     "execution_count": 44
    }
   ],
   "source": [
    "df_test.head(20)"
   ]
  },
  {
   "cell_type": "code",
   "execution_count": 46,
   "metadata": {},
   "outputs": [],
   "source": [
    "pd.DataFrame(df_test).to_csv('D:\\Books\\study\\python\\Analytics Vidya\\Twitter sentiment\\submission_SGDClassifier.csv',columns=['id','label'],index=None)"
   ]
  },
  {
   "cell_type": "code",
   "execution_count": 47,
   "metadata": {},
   "outputs": [
    {
     "output_type": "execute_result",
     "data": {
      "text/plain": "'        id  label\\n0     7921      1\\n1     7922      1\\n2     7923      1\\n3     7924      1\\n4     7925      1\\n...    ...    ...\\n1948  9869      0\\n1949  9870      0\\n1950  9871      1\\n1951  9872      1\\n1952  9873      0\\n\\n[1953 rows x 2 columns]'"
     },
     "metadata": {},
     "execution_count": 47
    }
   ],
   "source": [
    "str(df_test)"
   ]
  },
  {
   "cell_type": "code",
   "execution_count": 14,
   "metadata": {},
   "outputs": [
    {
     "output_type": "execute_result",
     "data": {
      "text/plain": "SVC(C=1.0, cache_size=200, class_weight=None, coef0=0.0,\n    decision_function_shape='ovr', degree=3, gamma='auto_deprecated',\n    kernel='rbf', max_iter=-1, probability=False, random_state=None,\n    shrinking=True, tol=0.001, verbose=False)"
     },
     "metadata": {},
     "execution_count": 14
    }
   ],
   "source": [
    "from sklearn.svm import SVC\n",
    "model_svm = SVC()\n",
    "model_svm.fit(data_mat,Y_train)"
   ]
  },
  {
   "cell_type": "code",
   "execution_count": 15,
   "metadata": {},
   "outputs": [
    {
     "output_type": "execute_result",
     "data": {
      "text/plain": "0.7441919191919192"
     },
     "metadata": {},
     "execution_count": 15
    }
   ],
   "source": [
    "model_svm.score(data_mat,Y_train)"
   ]
  },
  {
   "cell_type": "code",
   "execution_count": 16,
   "metadata": {},
   "outputs": [],
   "source": [
    "import joblib"
   ]
  },
  {
   "cell_type": "code",
   "execution_count": 17,
   "metadata": {},
   "outputs": [
    {
     "output_type": "execute_result",
     "data": {
      "text/plain": "['data_mat']"
     },
     "metadata": {},
     "execution_count": 17
    }
   ],
   "source": [
    "joblib.dump(data_mat,'data_mat')"
   ]
  },
  {
   "cell_type": "code",
   "execution_count": 18,
   "metadata": {},
   "outputs": [
    {
     "output_type": "execute_result",
     "data": {
      "text/plain": "['Y_train']"
     },
     "metadata": {},
     "execution_count": 18
    }
   ],
   "source": [
    "joblib.dump(Y_train,'Y_train')"
   ]
  },
  {
   "cell_type": "code",
   "execution_count": 26,
   "metadata": {},
   "outputs": [
    {
     "output_type": "execute_result",
     "data": {
      "text/plain": "['test_mat']"
     },
     "metadata": {},
     "execution_count": 26
    }
   ],
   "source": [
    "joblib.dump(test_mat,'test_mat')"
   ]
  },
  {
   "cell_type": "code",
   "execution_count": 31,
   "metadata": {},
   "outputs": [
    {
     "output_type": "execute_result",
     "data": {
      "text/plain": "TfidfVectorizer(analyzer='word', binary=False, decode_error='strict',\n                dtype=<class 'numpy.float64'>, encoding='utf-8',\n                input='content', lowercase=True, max_df=1.0, max_features=1000,\n                min_df=1, ngram_range=(1, 1), norm='l2', preprocessor=None,\n                smooth_idf=True,\n                stop_words=frozenset({'a', 'about', 'above', 'across', 'after',\n                                      'afterwards', 'again', 'against', 'all',\n                                      'almost', 'alone', 'along', 'already',\n                                      'also', 'although', 'always', 'am',\n                                      'among', 'amongst', 'amoungst', 'amount',\n                                      'an', 'and', 'another', 'any', 'anyhow',\n                                      'anyone', 'anything', 'anyway',\n                                      'anywhere', ...}),\n                strip_accents=None, sublinear_tf=False,\n                token_pattern='(?u)\\\\b\\\\w\\\\w+\\\\b', tokenizer=None, use_idf=True,\n                vocabulary=None)"
     },
     "metadata": {},
     "execution_count": 31
    }
   ],
   "source": [
    "from sklearn.feature_extraction.text import ENGLISH_STOP_WORDS, TfidfVectorizer\n",
    "tfidf_vectorizer = TfidfVectorizer(lowercase=True, max_features=1000, stop_words=ENGLISH_STOP_WORDS)\n",
    "tfidf_vectorizer.fit(df.tweet)"
   ]
  },
  {
   "cell_type": "code",
   "execution_count": 30,
   "metadata": {},
   "outputs": [
    {
     "output_type": "execute_result",
     "data": {
      "text/plain": "   id  label                                              tweet\n0   1      0  #fingerprint #Pregnancy Test https://goo.gl/h1...\n1   2      0  Finally a transparant silicon case ^^ Thanks t...\n2   3      0  We love this! Would you go? #talk #makememorie...\n3   4      0  I'm wired I know I'm George I was made that wa...\n4   5      1  What amazing service! Apple won't even talk to...",
      "text/html": "<div>\n<style scoped>\n    .dataframe tbody tr th:only-of-type {\n        vertical-align: middle;\n    }\n\n    .dataframe tbody tr th {\n        vertical-align: top;\n    }\n\n    .dataframe thead th {\n        text-align: right;\n    }\n</style>\n<table border=\"1\" class=\"dataframe\">\n  <thead>\n    <tr style=\"text-align: right;\">\n      <th></th>\n      <th>id</th>\n      <th>label</th>\n      <th>tweet</th>\n    </tr>\n  </thead>\n  <tbody>\n    <tr>\n      <td>0</td>\n      <td>1</td>\n      <td>0</td>\n      <td>#fingerprint #Pregnancy Test https://goo.gl/h1...</td>\n    </tr>\n    <tr>\n      <td>1</td>\n      <td>2</td>\n      <td>0</td>\n      <td>Finally a transparant silicon case ^^ Thanks t...</td>\n    </tr>\n    <tr>\n      <td>2</td>\n      <td>3</td>\n      <td>0</td>\n      <td>We love this! Would you go? #talk #makememorie...</td>\n    </tr>\n    <tr>\n      <td>3</td>\n      <td>4</td>\n      <td>0</td>\n      <td>I'm wired I know I'm George I was made that wa...</td>\n    </tr>\n    <tr>\n      <td>4</td>\n      <td>5</td>\n      <td>1</td>\n      <td>What amazing service! Apple won't even talk to...</td>\n    </tr>\n  </tbody>\n</table>\n</div>"
     },
     "metadata": {},
     "execution_count": 30
    }
   ],
   "source": [
    "df.head()"
   ]
  },
  {
   "cell_type": "code",
   "execution_count": 32,
   "metadata": {},
   "outputs": [],
   "source": [
    "train_idf = tfidf_vectorizer.transform(df.tweet)"
   ]
  },
  {
   "cell_type": "code",
   "execution_count": 35,
   "metadata": {},
   "outputs": [
    {
     "output_type": "execute_result",
     "data": {
      "text/plain": "SGDClassifier(alpha=0.0001, average=False, class_weight=None,\n              early_stopping=False, epsilon=0.1, eta0=0.0, fit_intercept=True,\n              l1_ratio=0.15, learning_rate='optimal', loss='hinge',\n              max_iter=1000, n_iter_no_change=5, n_jobs=None, penalty='l2',\n              power_t=0.5, random_state=None, shuffle=True, tol=0.001,\n              validation_fraction=0.1, verbose=0, warm_start=False)"
     },
     "metadata": {},
     "execution_count": 35
    }
   ],
   "source": [
    "# from sklearn.linear_model import SGDClassifier\n",
    "# model = SGDClassifier()\n",
    "model.fit(data_mat,Y_train)"
   ]
  },
  {
   "cell_type": "code",
   "execution_count": 36,
   "metadata": {},
   "outputs": [
    {
     "output_type": "execute_result",
     "data": {
      "text/plain": "0.9890151515151515"
     },
     "metadata": {},
     "execution_count": 36
    }
   ],
   "source": [
    "model.score(data_mat,Y_train)"
   ]
  },
  {
   "cell_type": "code",
   "execution_count": 16,
   "metadata": {},
   "outputs": [
    {
     "output_type": "execute_result",
     "data": {
      "text/plain": "['model_SGD.joblib']"
     },
     "metadata": {},
     "execution_count": 16
    }
   ],
   "source": [
    "joblib.dump(model,'model_SGD.joblib')"
   ]
  },
  {
   "cell_type": "code",
   "execution_count": 15,
   "metadata": {},
   "outputs": [],
   "source": [
    "import joblib"
   ]
  },
  {
   "cell_type": "code",
   "execution_count": null,
   "metadata": {},
   "outputs": [],
   "source": []
  }
 ]
}