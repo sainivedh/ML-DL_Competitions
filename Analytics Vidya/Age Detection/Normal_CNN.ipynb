{
 "metadata": {
  "language_info": {
   "codemirror_mode": {
    "name": "ipython",
    "version": 3
   },
   "file_extension": ".py",
   "mimetype": "text/x-python",
   "name": "python",
   "nbconvert_exporter": "python",
   "pygments_lexer": "ipython3",
   "version": "3.7.9-final"
  },
  "orig_nbformat": 2,
  "kernelspec": {
   "name": "tensorflow",
   "display_name": "Python 3.7 (tensorflow)"
  }
 },
 "nbformat": 4,
 "nbformat_minor": 2,
 "cells": [
  {
   "cell_type": "code",
   "execution_count": 1,
   "metadata": {},
   "outputs": [],
   "source": [
    "import numpy as np\n",
    "import pandas as pd\n",
    "import matplotlib.pyplot as plt"
   ]
  },
  {
   "cell_type": "code",
   "execution_count": 2,
   "metadata": {},
   "outputs": [],
   "source": [
    "train_df = pd.read_csv('train.csv')"
   ]
  },
  {
   "cell_type": "code",
   "execution_count": 3,
   "metadata": {},
   "outputs": [
    {
     "output_type": "execute_result",
     "data": {
      "text/plain": [
       "          ID   Class\n",
       "0    377.jpg  MIDDLE\n",
       "1  17814.jpg   YOUNG\n",
       "2  21283.jpg  MIDDLE\n",
       "3  16496.jpg   YOUNG\n",
       "4   4487.jpg  MIDDLE"
      ],
      "text/html": "<div>\n<style scoped>\n    .dataframe tbody tr th:only-of-type {\n        vertical-align: middle;\n    }\n\n    .dataframe tbody tr th {\n        vertical-align: top;\n    }\n\n    .dataframe thead th {\n        text-align: right;\n    }\n</style>\n<table border=\"1\" class=\"dataframe\">\n  <thead>\n    <tr style=\"text-align: right;\">\n      <th></th>\n      <th>ID</th>\n      <th>Class</th>\n    </tr>\n  </thead>\n  <tbody>\n    <tr>\n      <th>0</th>\n      <td>377.jpg</td>\n      <td>MIDDLE</td>\n    </tr>\n    <tr>\n      <th>1</th>\n      <td>17814.jpg</td>\n      <td>YOUNG</td>\n    </tr>\n    <tr>\n      <th>2</th>\n      <td>21283.jpg</td>\n      <td>MIDDLE</td>\n    </tr>\n    <tr>\n      <th>3</th>\n      <td>16496.jpg</td>\n      <td>YOUNG</td>\n    </tr>\n    <tr>\n      <th>4</th>\n      <td>4487.jpg</td>\n      <td>MIDDLE</td>\n    </tr>\n  </tbody>\n</table>\n</div>"
     },
     "metadata": {},
     "execution_count": 3
    }
   ],
   "source": [
    "train_df.head()"
   ]
  },
  {
   "cell_type": "code",
   "execution_count": 4,
   "metadata": {},
   "outputs": [],
   "source": [
    "from tensorflow.keras.preprocessing.image import load_img, img_to_array, array_to_img"
   ]
  },
  {
   "cell_type": "code",
   "execution_count": 5,
   "metadata": {},
   "outputs": [],
   "source": [
    "import os"
   ]
  },
  {
   "cell_type": "code",
   "execution_count": 9,
   "metadata": {},
   "outputs": [
    {
     "output_type": "execute_result",
     "data": {
      "text/plain": [
       "          ID   Class       train dirs\n",
       "0    377.jpg  MIDDLE    Train\\377.jpg\n",
       "1  17814.jpg   YOUNG  Train\\17814.jpg\n",
       "2  21283.jpg  MIDDLE  Train\\21283.jpg\n",
       "3  16496.jpg   YOUNG  Train\\16496.jpg\n",
       "4   4487.jpg  MIDDLE   Train\\4487.jpg"
      ],
      "text/html": "<div>\n<style scoped>\n    .dataframe tbody tr th:only-of-type {\n        vertical-align: middle;\n    }\n\n    .dataframe tbody tr th {\n        vertical-align: top;\n    }\n\n    .dataframe thead th {\n        text-align: right;\n    }\n</style>\n<table border=\"1\" class=\"dataframe\">\n  <thead>\n    <tr style=\"text-align: right;\">\n      <th></th>\n      <th>ID</th>\n      <th>Class</th>\n      <th>train dirs</th>\n    </tr>\n  </thead>\n  <tbody>\n    <tr>\n      <th>0</th>\n      <td>377.jpg</td>\n      <td>MIDDLE</td>\n      <td>Train\\377.jpg</td>\n    </tr>\n    <tr>\n      <th>1</th>\n      <td>17814.jpg</td>\n      <td>YOUNG</td>\n      <td>Train\\17814.jpg</td>\n    </tr>\n    <tr>\n      <th>2</th>\n      <td>21283.jpg</td>\n      <td>MIDDLE</td>\n      <td>Train\\21283.jpg</td>\n    </tr>\n    <tr>\n      <th>3</th>\n      <td>16496.jpg</td>\n      <td>YOUNG</td>\n      <td>Train\\16496.jpg</td>\n    </tr>\n    <tr>\n      <th>4</th>\n      <td>4487.jpg</td>\n      <td>MIDDLE</td>\n      <td>Train\\4487.jpg</td>\n    </tr>\n  </tbody>\n</table>\n</div>"
     },
     "metadata": {},
     "execution_count": 9
    }
   ],
   "source": [
    "train_dirs = []\n",
    "for i in train_df['ID']:\n",
    "    train_dirs.append(os.path.join('Train',i))\n",
    "train_df['train dirs'] = train_dirs\n",
    "train_df.head()"
   ]
  },
  {
   "cell_type": "code",
   "execution_count": 13,
   "metadata": {},
   "outputs": [
    {
     "output_type": "execute_result",
     "data": {
      "text/plain": [
       "<matplotlib.image.AxesImage at 0x20fc36b46c8>"
      ]
     },
     "metadata": {},
     "execution_count": 13
    },
    {
     "output_type": "display_data",
     "data": {
      "text/plain": "<Figure size 432x288 with 1 Axes>",
      "image/svg+xml": "<?xml version=\"1.0\" encoding=\"utf-8\" standalone=\"no\"?>\r\n<!DOCTYPE svg PUBLIC \"-//W3C//DTD SVG 1.1//EN\"\r\n  \"http://www.w3.org/Graphics/SVG/1.1/DTD/svg11.dtd\">\r\n<!-- Created with matplotlib (https://matplotlib.org/) -->\r\n<svg height=\"250.618594pt\" version=\"1.1\" viewBox=\"0 0 251.565 250.618594\" width=\"251.565pt\" xmlns=\"http://www.w3.org/2000/svg\" xmlns:xlink=\"http://www.w3.org/1999/xlink\">\r\n <metadata>\r\n  <rdf:RDF xmlns:cc=\"http://creativecommons.org/ns#\" xmlns:dc=\"http://purl.org/dc/elements/1.1/\" xmlns:rdf=\"http://www.w3.org/1999/02/22-rdf-syntax-ns#\">\r\n   <cc:Work>\r\n    <dc:type rdf:resource=\"http://purl.org/dc/dcmitype/StillImage\"/>\r\n    <dc:date>2020-11-11T14:39:49.408138</dc:date>\r\n    <dc:format>image/svg+xml</dc:format>\r\n    <dc:creator>\r\n     <cc:Agent>\r\n      <dc:title>Matplotlib v3.3.1, https://matplotlib.org/</dc:title>\r\n     </cc:Agent>\r\n    </dc:creator>\r\n   </cc:Work>\r\n  </rdf:RDF>\r\n </metadata>\r\n <defs>\r\n  <style type=\"text/css\">*{stroke-linecap:butt;stroke-linejoin:round;}</style>\r\n </defs>\r\n <g id=\"figure_1\">\r\n  <g id=\"patch_1\">\r\n   <path d=\"M 0 250.618594 \r\nL 251.565 250.618594 \r\nL 251.565 0 \r\nL 0 0 \r\nz\r\n\" style=\"fill:none;\"/>\r\n  </g>\r\n  <g id=\"axes_1\">\r\n   <g id=\"patch_2\">\r\n    <path d=\"M 26.925 226.740469 \r\nL 244.365 226.740469 \r\nL 244.365 9.300469 \r\nL 26.925 9.300469 \r\nz\r\n\" style=\"fill:#ffffff;\"/>\r\n   </g>\r\n   <g clip-path=\"url(#p2bde7e0465)\">\r\n    <image height=\"218\" id=\"imaged0f7439b75\" transform=\"scale(1 -1)translate(0 -218)\" width=\"218\" x=\"26.925\" xlink:href=\"data:image/png;base64,\r\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\" y=\"-8.740469\"/>\r\n   </g>\r\n   <g id=\"matplotlib.axis_1\">\r\n    <g id=\"xtick_1\">\r\n     <g id=\"line2d_1\">\r\n      <defs>\r\n       <path d=\"M 0 0 \r\nL 0 3.5 \r\n\" id=\"mfad8d81a68\" style=\"stroke:#000000;stroke-width:0.8;\"/>\r\n      </defs>\r\n      <g>\r\n       <use style=\"stroke:#000000;stroke-width:0.8;\" x=\"28.62375\" xlink:href=\"#mfad8d81a68\" y=\"226.740469\"/>\r\n      </g>\r\n     </g>\r\n     <g id=\"text_1\">\r\n      <!-- 0 -->\r\n      <g transform=\"translate(25.4425 241.338906)scale(0.1 -0.1)\">\r\n       <defs>\r\n        <path d=\"M 31.78125 66.40625 \r\nQ 24.171875 66.40625 20.328125 58.90625 \r\nQ 16.5 51.421875 16.5 36.375 \r\nQ 16.5 21.390625 20.328125 13.890625 \r\nQ 24.171875 6.390625 31.78125 6.390625 \r\nQ 39.453125 6.390625 43.28125 13.890625 \r\nQ 47.125 21.390625 47.125 36.375 \r\nQ 47.125 51.421875 43.28125 58.90625 \r\nQ 39.453125 66.40625 31.78125 66.40625 \r\nz\r\nM 31.78125 74.21875 \r\nQ 44.046875 74.21875 50.515625 64.515625 \r\nQ 56.984375 54.828125 56.984375 36.375 \r\nQ 56.984375 17.96875 50.515625 8.265625 \r\nQ 44.046875 -1.421875 31.78125 -1.421875 \r\nQ 19.53125 -1.421875 13.0625 8.265625 \r\nQ 6.59375 17.96875 6.59375 36.375 \r\nQ 6.59375 54.828125 13.0625 64.515625 \r\nQ 19.53125 74.21875 31.78125 74.21875 \r\nz\r\n\" id=\"DejaVuSans-48\"/>\r\n       </defs>\r\n       <use xlink:href=\"#DejaVuSans-48\"/>\r\n      </g>\r\n     </g>\r\n    </g>\r\n    <g id=\"xtick_2\">\r\n     <g id=\"line2d_2\">\r\n      <g>\r\n       <use style=\"stroke:#000000;stroke-width:0.8;\" x=\"62.59875\" xlink:href=\"#mfad8d81a68\" y=\"226.740469\"/>\r\n      </g>\r\n     </g>\r\n     <g id=\"text_2\">\r\n      <!-- 10 -->\r\n      <g transform=\"translate(56.23625 241.338906)scale(0.1 -0.1)\">\r\n       <defs>\r\n        <path d=\"M 12.40625 8.296875 \r\nL 28.515625 8.296875 \r\nL 28.515625 63.921875 \r\nL 10.984375 60.40625 \r\nL 10.984375 69.390625 \r\nL 28.421875 72.90625 \r\nL 38.28125 72.90625 \r\nL 38.28125 8.296875 \r\nL 54.390625 8.296875 \r\nL 54.390625 0 \r\nL 12.40625 0 \r\nz\r\n\" id=\"DejaVuSans-49\"/>\r\n       </defs>\r\n       <use xlink:href=\"#DejaVuSans-49\"/>\r\n       <use x=\"63.623047\" xlink:href=\"#DejaVuSans-48\"/>\r\n      </g>\r\n     </g>\r\n    </g>\r\n    <g id=\"xtick_3\">\r\n     <g id=\"line2d_3\">\r\n      <g>\r\n       <use style=\"stroke:#000000;stroke-width:0.8;\" x=\"96.57375\" xlink:href=\"#mfad8d81a68\" y=\"226.740469\"/>\r\n      </g>\r\n     </g>\r\n     <g id=\"text_3\">\r\n      <!-- 20 -->\r\n      <g transform=\"translate(90.21125 241.338906)scale(0.1 -0.1)\">\r\n       <defs>\r\n        <path d=\"M 19.1875 8.296875 \r\nL 53.609375 8.296875 \r\nL 53.609375 0 \r\nL 7.328125 0 \r\nL 7.328125 8.296875 \r\nQ 12.9375 14.109375 22.625 23.890625 \r\nQ 32.328125 33.6875 34.8125 36.53125 \r\nQ 39.546875 41.84375 41.421875 45.53125 \r\nQ 43.3125 49.21875 43.3125 52.78125 \r\nQ 43.3125 58.59375 39.234375 62.25 \r\nQ 35.15625 65.921875 28.609375 65.921875 \r\nQ 23.96875 65.921875 18.8125 64.3125 \r\nQ 13.671875 62.703125 7.8125 59.421875 \r\nL 7.8125 69.390625 \r\nQ 13.765625 71.78125 18.9375 73 \r\nQ 24.125 74.21875 28.421875 74.21875 \r\nQ 39.75 74.21875 46.484375 68.546875 \r\nQ 53.21875 62.890625 53.21875 53.421875 \r\nQ 53.21875 48.921875 51.53125 44.890625 \r\nQ 49.859375 40.875 45.40625 35.40625 \r\nQ 44.1875 33.984375 37.640625 27.21875 \r\nQ 31.109375 20.453125 19.1875 8.296875 \r\nz\r\n\" id=\"DejaVuSans-50\"/>\r\n       </defs>\r\n       <use xlink:href=\"#DejaVuSans-50\"/>\r\n       <use x=\"63.623047\" xlink:href=\"#DejaVuSans-48\"/>\r\n      </g>\r\n     </g>\r\n    </g>\r\n    <g id=\"xtick_4\">\r\n     <g id=\"line2d_4\">\r\n      <g>\r\n       <use style=\"stroke:#000000;stroke-width:0.8;\" x=\"130.54875\" xlink:href=\"#mfad8d81a68\" y=\"226.740469\"/>\r\n      </g>\r\n     </g>\r\n     <g id=\"text_4\">\r\n      <!-- 30 -->\r\n      <g transform=\"translate(124.18625 241.338906)scale(0.1 -0.1)\">\r\n       <defs>\r\n        <path d=\"M 40.578125 39.3125 \r\nQ 47.65625 37.796875 51.625 33 \r\nQ 55.609375 28.21875 55.609375 21.1875 \r\nQ 55.609375 10.40625 48.1875 4.484375 \r\nQ 40.765625 -1.421875 27.09375 -1.421875 \r\nQ 22.515625 -1.421875 17.65625 -0.515625 \r\nQ 12.796875 0.390625 7.625 2.203125 \r\nL 7.625 11.71875 \r\nQ 11.71875 9.328125 16.59375 8.109375 \r\nQ 21.484375 6.890625 26.8125 6.890625 \r\nQ 36.078125 6.890625 40.9375 10.546875 \r\nQ 45.796875 14.203125 45.796875 21.1875 \r\nQ 45.796875 27.640625 41.28125 31.265625 \r\nQ 36.765625 34.90625 28.71875 34.90625 \r\nL 20.21875 34.90625 \r\nL 20.21875 43.015625 \r\nL 29.109375 43.015625 \r\nQ 36.375 43.015625 40.234375 45.921875 \r\nQ 44.09375 48.828125 44.09375 54.296875 \r\nQ 44.09375 59.90625 40.109375 62.90625 \r\nQ 36.140625 65.921875 28.71875 65.921875 \r\nQ 24.65625 65.921875 20.015625 65.03125 \r\nQ 15.375 64.15625 9.8125 62.3125 \r\nL 9.8125 71.09375 \r\nQ 15.4375 72.65625 20.34375 73.4375 \r\nQ 25.25 74.21875 29.59375 74.21875 \r\nQ 40.828125 74.21875 47.359375 69.109375 \r\nQ 53.90625 64.015625 53.90625 55.328125 \r\nQ 53.90625 49.265625 50.4375 45.09375 \r\nQ 46.96875 40.921875 40.578125 39.3125 \r\nz\r\n\" id=\"DejaVuSans-51\"/>\r\n       </defs>\r\n       <use xlink:href=\"#DejaVuSans-51\"/>\r\n       <use x=\"63.623047\" xlink:href=\"#DejaVuSans-48\"/>\r\n      </g>\r\n     </g>\r\n    </g>\r\n    <g id=\"xtick_5\">\r\n     <g id=\"line2d_5\">\r\n      <g>\r\n       <use style=\"stroke:#000000;stroke-width:0.8;\" x=\"164.52375\" xlink:href=\"#mfad8d81a68\" y=\"226.740469\"/>\r\n      </g>\r\n     </g>\r\n     <g id=\"text_5\">\r\n      <!-- 40 -->\r\n      <g transform=\"translate(158.16125 241.338906)scale(0.1 -0.1)\">\r\n       <defs>\r\n        <path d=\"M 37.796875 64.3125 \r\nL 12.890625 25.390625 \r\nL 37.796875 25.390625 \r\nz\r\nM 35.203125 72.90625 \r\nL 47.609375 72.90625 \r\nL 47.609375 25.390625 \r\nL 58.015625 25.390625 \r\nL 58.015625 17.1875 \r\nL 47.609375 17.1875 \r\nL 47.609375 0 \r\nL 37.796875 0 \r\nL 37.796875 17.1875 \r\nL 4.890625 17.1875 \r\nL 4.890625 26.703125 \r\nz\r\n\" id=\"DejaVuSans-52\"/>\r\n       </defs>\r\n       <use xlink:href=\"#DejaVuSans-52\"/>\r\n       <use x=\"63.623047\" xlink:href=\"#DejaVuSans-48\"/>\r\n      </g>\r\n     </g>\r\n    </g>\r\n    <g id=\"xtick_6\">\r\n     <g id=\"line2d_6\">\r\n      <g>\r\n       <use style=\"stroke:#000000;stroke-width:0.8;\" x=\"198.49875\" xlink:href=\"#mfad8d81a68\" y=\"226.740469\"/>\r\n      </g>\r\n     </g>\r\n     <g id=\"text_6\">\r\n      <!-- 50 -->\r\n      <g transform=\"translate(192.13625 241.338906)scale(0.1 -0.1)\">\r\n       <defs>\r\n        <path d=\"M 10.796875 72.90625 \r\nL 49.515625 72.90625 \r\nL 49.515625 64.59375 \r\nL 19.828125 64.59375 \r\nL 19.828125 46.734375 \r\nQ 21.96875 47.46875 24.109375 47.828125 \r\nQ 26.265625 48.1875 28.421875 48.1875 \r\nQ 40.625 48.1875 47.75 41.5 \r\nQ 54.890625 34.8125 54.890625 23.390625 \r\nQ 54.890625 11.625 47.5625 5.09375 \r\nQ 40.234375 -1.421875 26.90625 -1.421875 \r\nQ 22.3125 -1.421875 17.546875 -0.640625 \r\nQ 12.796875 0.140625 7.71875 1.703125 \r\nL 7.71875 11.625 \r\nQ 12.109375 9.234375 16.796875 8.0625 \r\nQ 21.484375 6.890625 26.703125 6.890625 \r\nQ 35.15625 6.890625 40.078125 11.328125 \r\nQ 45.015625 15.765625 45.015625 23.390625 \r\nQ 45.015625 31 40.078125 35.4375 \r\nQ 35.15625 39.890625 26.703125 39.890625 \r\nQ 22.75 39.890625 18.8125 39.015625 \r\nQ 14.890625 38.140625 10.796875 36.28125 \r\nz\r\n\" id=\"DejaVuSans-53\"/>\r\n       </defs>\r\n       <use xlink:href=\"#DejaVuSans-53\"/>\r\n       <use x=\"63.623047\" xlink:href=\"#DejaVuSans-48\"/>\r\n      </g>\r\n     </g>\r\n    </g>\r\n    <g id=\"xtick_7\">\r\n     <g id=\"line2d_7\">\r\n      <g>\r\n       <use style=\"stroke:#000000;stroke-width:0.8;\" x=\"232.47375\" xlink:href=\"#mfad8d81a68\" y=\"226.740469\"/>\r\n      </g>\r\n     </g>\r\n     <g id=\"text_7\">\r\n      <!-- 60 -->\r\n      <g transform=\"translate(226.11125 241.338906)scale(0.1 -0.1)\">\r\n       <defs>\r\n        <path d=\"M 33.015625 40.375 \r\nQ 26.375 40.375 22.484375 35.828125 \r\nQ 18.609375 31.296875 18.609375 23.390625 \r\nQ 18.609375 15.53125 22.484375 10.953125 \r\nQ 26.375 6.390625 33.015625 6.390625 \r\nQ 39.65625 6.390625 43.53125 10.953125 \r\nQ 47.40625 15.53125 47.40625 23.390625 \r\nQ 47.40625 31.296875 43.53125 35.828125 \r\nQ 39.65625 40.375 33.015625 40.375 \r\nz\r\nM 52.59375 71.296875 \r\nL 52.59375 62.3125 \r\nQ 48.875 64.0625 45.09375 64.984375 \r\nQ 41.3125 65.921875 37.59375 65.921875 \r\nQ 27.828125 65.921875 22.671875 59.328125 \r\nQ 17.53125 52.734375 16.796875 39.40625 \r\nQ 19.671875 43.65625 24.015625 45.921875 \r\nQ 28.375 48.1875 33.59375 48.1875 \r\nQ 44.578125 48.1875 50.953125 41.515625 \r\nQ 57.328125 34.859375 57.328125 23.390625 \r\nQ 57.328125 12.15625 50.6875 5.359375 \r\nQ 44.046875 -1.421875 33.015625 -1.421875 \r\nQ 20.359375 -1.421875 13.671875 8.265625 \r\nQ 6.984375 17.96875 6.984375 36.375 \r\nQ 6.984375 53.65625 15.1875 63.9375 \r\nQ 23.390625 74.21875 37.203125 74.21875 \r\nQ 40.921875 74.21875 44.703125 73.484375 \r\nQ 48.484375 72.75 52.59375 71.296875 \r\nz\r\n\" id=\"DejaVuSans-54\"/>\r\n       </defs>\r\n       <use xlink:href=\"#DejaVuSans-54\"/>\r\n       <use x=\"63.623047\" xlink:href=\"#DejaVuSans-48\"/>\r\n      </g>\r\n     </g>\r\n    </g>\r\n   </g>\r\n   <g id=\"matplotlib.axis_2\">\r\n    <g id=\"ytick_1\">\r\n     <g id=\"line2d_8\">\r\n      <defs>\r\n       <path d=\"M 0 0 \r\nL -3.5 0 \r\n\" id=\"m915d5e9db8\" style=\"stroke:#000000;stroke-width:0.8;\"/>\r\n      </defs>\r\n      <g>\r\n       <use style=\"stroke:#000000;stroke-width:0.8;\" x=\"26.925\" xlink:href=\"#m915d5e9db8\" y=\"10.999219\"/>\r\n      </g>\r\n     </g>\r\n     <g id=\"text_8\">\r\n      <!-- 0 -->\r\n      <g transform=\"translate(13.5625 14.798437)scale(0.1 -0.1)\">\r\n       <use xlink:href=\"#DejaVuSans-48\"/>\r\n      </g>\r\n     </g>\r\n    </g>\r\n    <g id=\"ytick_2\">\r\n     <g id=\"line2d_9\">\r\n      <g>\r\n       <use style=\"stroke:#000000;stroke-width:0.8;\" x=\"26.925\" xlink:href=\"#m915d5e9db8\" y=\"44.974219\"/>\r\n      </g>\r\n     </g>\r\n     <g id=\"text_9\">\r\n      <!-- 10 -->\r\n      <g transform=\"translate(7.2 48.773437)scale(0.1 -0.1)\">\r\n       <use xlink:href=\"#DejaVuSans-49\"/>\r\n       <use x=\"63.623047\" xlink:href=\"#DejaVuSans-48\"/>\r\n      </g>\r\n     </g>\r\n    </g>\r\n    <g id=\"ytick_3\">\r\n     <g id=\"line2d_10\">\r\n      <g>\r\n       <use style=\"stroke:#000000;stroke-width:0.8;\" x=\"26.925\" xlink:href=\"#m915d5e9db8\" y=\"78.949219\"/>\r\n      </g>\r\n     </g>\r\n     <g id=\"text_10\">\r\n      <!-- 20 -->\r\n      <g transform=\"translate(7.2 82.748437)scale(0.1 -0.1)\">\r\n       <use xlink:href=\"#DejaVuSans-50\"/>\r\n       <use x=\"63.623047\" xlink:href=\"#DejaVuSans-48\"/>\r\n      </g>\r\n     </g>\r\n    </g>\r\n    <g id=\"ytick_4\">\r\n     <g id=\"line2d_11\">\r\n      <g>\r\n       <use style=\"stroke:#000000;stroke-width:0.8;\" x=\"26.925\" xlink:href=\"#m915d5e9db8\" y=\"112.924219\"/>\r\n      </g>\r\n     </g>\r\n     <g id=\"text_11\">\r\n      <!-- 30 -->\r\n      <g transform=\"translate(7.2 116.723437)scale(0.1 -0.1)\">\r\n       <use xlink:href=\"#DejaVuSans-51\"/>\r\n       <use x=\"63.623047\" xlink:href=\"#DejaVuSans-48\"/>\r\n      </g>\r\n     </g>\r\n    </g>\r\n    <g id=\"ytick_5\">\r\n     <g id=\"line2d_12\">\r\n      <g>\r\n       <use style=\"stroke:#000000;stroke-width:0.8;\" x=\"26.925\" xlink:href=\"#m915d5e9db8\" y=\"146.899219\"/>\r\n      </g>\r\n     </g>\r\n     <g id=\"text_12\">\r\n      <!-- 40 -->\r\n      <g transform=\"translate(7.2 150.698437)scale(0.1 -0.1)\">\r\n       <use xlink:href=\"#DejaVuSans-52\"/>\r\n       <use x=\"63.623047\" xlink:href=\"#DejaVuSans-48\"/>\r\n      </g>\r\n     </g>\r\n    </g>\r\n    <g id=\"ytick_6\">\r\n     <g id=\"line2d_13\">\r\n      <g>\r\n       <use style=\"stroke:#000000;stroke-width:0.8;\" x=\"26.925\" xlink:href=\"#m915d5e9db8\" y=\"180.874219\"/>\r\n      </g>\r\n     </g>\r\n     <g id=\"text_13\">\r\n      <!-- 50 -->\r\n      <g transform=\"translate(7.2 184.673437)scale(0.1 -0.1)\">\r\n       <use xlink:href=\"#DejaVuSans-53\"/>\r\n       <use x=\"63.623047\" xlink:href=\"#DejaVuSans-48\"/>\r\n      </g>\r\n     </g>\r\n    </g>\r\n    <g id=\"ytick_7\">\r\n     <g id=\"line2d_14\">\r\n      <g>\r\n       <use style=\"stroke:#000000;stroke-width:0.8;\" x=\"26.925\" xlink:href=\"#m915d5e9db8\" y=\"214.849219\"/>\r\n      </g>\r\n     </g>\r\n     <g id=\"text_14\">\r\n      <!-- 60 -->\r\n      <g transform=\"translate(7.2 218.648437)scale(0.1 -0.1)\">\r\n       <use xlink:href=\"#DejaVuSans-54\"/>\r\n       <use x=\"63.623047\" xlink:href=\"#DejaVuSans-48\"/>\r\n      </g>\r\n     </g>\r\n    </g>\r\n   </g>\r\n   <g id=\"patch_3\">\r\n    <path d=\"M 26.925 226.740469 \r\nL 26.925 9.300469 \r\n\" style=\"fill:none;stroke:#000000;stroke-linecap:square;stroke-linejoin:miter;stroke-width:0.8;\"/>\r\n   </g>\r\n   <g id=\"patch_4\">\r\n    <path d=\"M 244.365 226.740469 \r\nL 244.365 9.300469 \r\n\" style=\"fill:none;stroke:#000000;stroke-linecap:square;stroke-linejoin:miter;stroke-width:0.8;\"/>\r\n   </g>\r\n   <g id=\"patch_5\">\r\n    <path d=\"M 26.925 226.740469 \r\nL 244.365 226.740469 \r\n\" style=\"fill:none;stroke:#000000;stroke-linecap:square;stroke-linejoin:miter;stroke-width:0.8;\"/>\r\n   </g>\r\n   <g id=\"patch_6\">\r\n    <path d=\"M 26.925 9.300469 \r\nL 244.365 9.300469 \r\n\" style=\"fill:none;stroke:#000000;stroke-linecap:square;stroke-linejoin:miter;stroke-width:0.8;\"/>\r\n   </g>\r\n  </g>\r\n </g>\r\n <defs>\r\n  <clipPath id=\"p2bde7e0465\">\r\n   <rect height=\"217.44\" width=\"217.44\" x=\"26.925\" y=\"9.300469\"/>\r\n  </clipPath>\r\n </defs>\r\n</svg>\r\n",
      "image/png": "[encoded data removed]"
     },
     "metadata": {
      "needs_background": "light"
     }
    }
   ],
   "source": [
    "img = load_img(train_df['train dirs'][1000],target_size=(64,64,3))\n",
    "plt.imshow(img)"
   ]
  },
  {
   "cell_type": "code",
   "execution_count": 14,
   "metadata": {},
   "outputs": [
    {
     "output_type": "stream",
     "name": "stdout",
     "text": [
      "(19906, 64, 64, 3)\n"
     ]
    }
   ],
   "source": [
    "X = np.zeros((len(train_df),64,64,3))\n",
    "for i in range(len(train_df)):\n",
    "    img = load_img(train_df['train dirs'][i],target_size=(64,64,3))\n",
    "    arr = img_to_array(img)\n",
    "    X[i] = arr\n",
    "print(X.shape)"
   ]
  },
  {
   "cell_type": "code",
   "execution_count": 15,
   "metadata": {},
   "outputs": [],
   "source": [
    "X_train,X_test = X[0:18000],X[18000:]"
   ]
  },
  {
   "cell_type": "code",
   "execution_count": 16,
   "metadata": {},
   "outputs": [
    {
     "output_type": "stream",
     "name": "stdout",
     "text": [
      "(18000, 64, 64, 3) (1906, 64, 64, 3)\n"
     ]
    }
   ],
   "source": [
    "print(X_train.shape,X_test.shape)"
   ]
  },
  {
   "cell_type": "code",
   "execution_count": 17,
   "metadata": {},
   "outputs": [
    {
     "output_type": "stream",
     "name": "stdout",
     "text": [
      "(18000, 64, 64, 3) (1906, 64, 64, 3)\n"
     ]
    }
   ],
   "source": [
    "X_train = X_train/255.0\n",
    "X_test = X_test/255.0\n",
    "print(X_train.shape,X_test.shape)"
   ]
  },
  {
   "cell_type": "code",
   "execution_count": 19,
   "metadata": {},
   "outputs": [
    {
     "output_type": "execute_result",
     "data": {
      "text/plain": [
       "          ID   Class       train dirs  class encode\n",
       "0    377.jpg  MIDDLE    Train\\377.jpg             0\n",
       "1  17814.jpg   YOUNG  Train\\17814.jpg             2\n",
       "2  21283.jpg  MIDDLE  Train\\21283.jpg             0\n",
       "3  16496.jpg   YOUNG  Train\\16496.jpg             2\n",
       "4   4487.jpg  MIDDLE   Train\\4487.jpg             0"
      ],
      "text/html": "<div>\n<style scoped>\n    .dataframe tbody tr th:only-of-type {\n        vertical-align: middle;\n    }\n\n    .dataframe tbody tr th {\n        vertical-align: top;\n    }\n\n    .dataframe thead th {\n        text-align: right;\n    }\n</style>\n<table border=\"1\" class=\"dataframe\">\n  <thead>\n    <tr style=\"text-align: right;\">\n      <th></th>\n      <th>ID</th>\n      <th>Class</th>\n      <th>train dirs</th>\n      <th>class encode</th>\n    </tr>\n  </thead>\n  <tbody>\n    <tr>\n      <th>0</th>\n      <td>377.jpg</td>\n      <td>MIDDLE</td>\n      <td>Train\\377.jpg</td>\n      <td>0</td>\n    </tr>\n    <tr>\n      <th>1</th>\n      <td>17814.jpg</td>\n      <td>YOUNG</td>\n      <td>Train\\17814.jpg</td>\n      <td>2</td>\n    </tr>\n    <tr>\n      <th>2</th>\n      <td>21283.jpg</td>\n      <td>MIDDLE</td>\n      <td>Train\\21283.jpg</td>\n      <td>0</td>\n    </tr>\n    <tr>\n      <th>3</th>\n      <td>16496.jpg</td>\n      <td>YOUNG</td>\n      <td>Train\\16496.jpg</td>\n      <td>2</td>\n    </tr>\n    <tr>\n      <th>4</th>\n      <td>4487.jpg</td>\n      <td>MIDDLE</td>\n      <td>Train\\4487.jpg</td>\n      <td>0</td>\n    </tr>\n  </tbody>\n</table>\n</div>"
     },
     "metadata": {},
     "execution_count": 19
    }
   ],
   "source": [
    "from sklearn.preprocessing import LabelEncoder\n",
    "encoder = LabelEncoder()\n",
    "train_df['class encode'] = encoder.fit_transform(train_df['Class'])\n",
    "train_df.head()"
   ]
  },
  {
   "cell_type": "code",
   "execution_count": 22,
   "metadata": {},
   "outputs": [
    {
     "output_type": "stream",
     "name": "stdout",
     "text": [
      "[0 2 0 2 0 0 2 2 2 1]\n(19906,)\n"
     ]
    }
   ],
   "source": [
    "Y = train_df['class encode'].values\n",
    "print(Y[:10])\n",
    "print(Y.shape)"
   ]
  },
  {
   "cell_type": "code",
   "execution_count": 23,
   "metadata": {},
   "outputs": [],
   "source": [
    "Y_train,Y_test = Y[0:18000],Y[18000:]"
   ]
  },
  {
   "cell_type": "code",
   "execution_count": 25,
   "metadata": {},
   "outputs": [],
   "source": [
    "from tensorflow.keras.models import Model\n",
    "from tensorflow.keras import layers, Input\n",
    "from tensorflow.keras.callbacks import ModelCheckpoint, EarlyStopping"
   ]
  },
  {
   "cell_type": "code",
   "execution_count": 28,
   "metadata": {},
   "outputs": [
    {
     "output_type": "stream",
     "name": "stdout",
     "text": [
      "Model: \"model_1\"\n_________________________________________________________________\nLayer (type)                 Output Shape              Param #   \n=================================================================\ninput_3 (InputLayer)         [(None, 64, 64, 3)]       0         \n_________________________________________________________________\nconv2d_5 (Conv2D)            (None, 62, 62, 32)        896       \n_________________________________________________________________\nmax_pooling2d_4 (MaxPooling2 (None, 31, 31, 32)        0         \n_________________________________________________________________\nconv2d_6 (Conv2D)            (None, 29, 29, 64)        18496     \n_________________________________________________________________\nmax_pooling2d_5 (MaxPooling2 (None, 14, 14, 64)        0         \n_________________________________________________________________\nconv2d_7 (Conv2D)            (None, 14, 14, 128)       73856     \n_________________________________________________________________\nmax_pooling2d_6 (MaxPooling2 (None, 7, 7, 128)         0         \n_________________________________________________________________\nconv2d_8 (Conv2D)            (None, 7, 7, 128)         147584    \n_________________________________________________________________\nmax_pooling2d_7 (MaxPooling2 (None, 3, 3, 128)         0         \n_________________________________________________________________\nflatten_1 (Flatten)          (None, 1152)              0         \n_________________________________________________________________\ndropout_1 (Dropout)          (None, 1152)              0         \n_________________________________________________________________\ndense_2 (Dense)              (None, 512)               590336    \n_________________________________________________________________\ndense_3 (Dense)              (None, 3)                 1539      \n=================================================================\nTotal params: 832,707\nTrainable params: 832,707\nNon-trainable params: 0\n_________________________________________________________________\n"
     ]
    }
   ],
   "source": [
    "inputs = Input(shape=(64,64,3))\n",
    "x = layers.Conv2D(32,(3,3),activation='relu')(inputs)\n",
    "x = layers.MaxPooling2D((2,2))(x)\n",
    "x = layers.Conv2D(64,(3,3),activation='relu')(x)\n",
    "x = layers.MaxPooling2D((2,2))(x)\n",
    "x = layers.Conv2D(128,(3,3),padding='same',activation='relu')(x)\n",
    "x = layers.MaxPooling2D((2,2))(x)\n",
    "x = layers.Conv2D(128,(3,3),padding='same',activation='relu')(x)\n",
    "x = layers.MaxPooling2D((2,2))(x)\n",
    "x = layers.Flatten()(x)\n",
    "x = layers.Dropout(0.2)(x)\n",
    "x = layers.Dense(512,activation='relu')(x)\n",
    "outputs = layers.Dense(3,activation='softmax')(x)\n",
    "model = Model(inputs,outputs)\n",
    "model.compile(optimizer='rmsprop',loss='sparse_categorical_crossentropy',metrics=['accuracy'])\n",
    "model.summary()"
   ]
  },
  {
   "cell_type": "code",
   "execution_count": 31,
   "metadata": {},
   "outputs": [],
   "source": [
    "callbacks_list = [\n",
    "    ModelCheckpoint(monitor='val_loss',save_best_only=True,filepath='my_model.h5'),\n",
    "    EarlyStopping(monitor='accuracy',patience=1)\n",
    "]"
   ]
  },
  {
   "cell_type": "code",
   "execution_count": 33,
   "metadata": {},
   "outputs": [
    {
     "output_type": "stream",
     "name": "stdout",
     "text": [
      "Train on 18000 samples, validate on 1906 samples\n",
      "Epoch 1/20\n",
      "18000/18000 [==============================] - 9s 498us/sample - loss: 0.9274 - accuracy: 0.5632 - val_loss: 0.7833 - val_accuracy: 0.6705\n",
      "Epoch 2/20\n",
      "18000/18000 [==============================] - 6s 310us/sample - loss: 0.7751 - accuracy: 0.6584 - val_loss: 0.7649 - val_accuracy: 0.6831\n",
      "Epoch 3/20\n",
      "18000/18000 [==============================] - 5s 302us/sample - loss: 0.7034 - accuracy: 0.6943 - val_loss: 0.8017 - val_accuracy: 0.6375\n",
      "Epoch 4/20\n",
      "18000/18000 [==============================] - 5s 303us/sample - loss: 0.6408 - accuracy: 0.7241 - val_loss: 0.6224 - val_accuracy: 0.7314\n",
      "Epoch 5/20\n",
      "18000/18000 [==============================] - 6s 318us/sample - loss: 0.5924 - accuracy: 0.7473 - val_loss: 0.6077 - val_accuracy: 0.7550\n",
      "Epoch 6/20\n",
      "18000/18000 [==============================] - 5s 303us/sample - loss: 0.5473 - accuracy: 0.7729 - val_loss: 0.5626 - val_accuracy: 0.7576\n",
      "Epoch 7/20\n",
      "18000/18000 [==============================] - 5s 300us/sample - loss: 0.4975 - accuracy: 0.7926 - val_loss: 0.5881 - val_accuracy: 0.7503\n",
      "Epoch 8/20\n",
      "18000/18000 [==============================] - 6s 306us/sample - loss: 0.4592 - accuracy: 0.8146 - val_loss: 0.5568 - val_accuracy: 0.7655\n",
      "Epoch 9/20\n",
      "18000/18000 [==============================] - 5s 303us/sample - loss: 0.4197 - accuracy: 0.8280 - val_loss: 0.5748 - val_accuracy: 0.7613\n",
      "Epoch 10/20\n",
      "18000/18000 [==============================] - 5s 304us/sample - loss: 0.3714 - accuracy: 0.8507 - val_loss: 0.4950 - val_accuracy: 0.8069\n",
      "Epoch 11/20\n",
      "18000/18000 [==============================] - 5s 300us/sample - loss: 0.3452 - accuracy: 0.8652 - val_loss: 0.5763 - val_accuracy: 0.7844\n",
      "Epoch 12/20\n",
      "18000/18000 [==============================] - 5s 303us/sample - loss: 0.3087 - accuracy: 0.8772 - val_loss: 0.5682 - val_accuracy: 0.8054\n",
      "Epoch 13/20\n",
      "18000/18000 [==============================] - 5s 300us/sample - loss: 0.2743 - accuracy: 0.8919 - val_loss: 0.6163 - val_accuracy: 0.7996\n",
      "Epoch 14/20\n",
      "18000/18000 [==============================] - 5s 304us/sample - loss: 0.2457 - accuracy: 0.9015 - val_loss: 0.5598 - val_accuracy: 0.8116\n",
      "Epoch 15/20\n",
      "18000/18000 [==============================] - 5s 304us/sample - loss: 0.2241 - accuracy: 0.9124 - val_loss: 0.6424 - val_accuracy: 0.7964\n",
      "Epoch 16/20\n",
      "18000/18000 [==============================] - 5s 302us/sample - loss: 0.2034 - accuracy: 0.9241 - val_loss: 0.5819 - val_accuracy: 0.8038\n",
      "Epoch 17/20\n",
      "18000/18000 [==============================] - 5s 304us/sample - loss: 0.1812 - accuracy: 0.9307 - val_loss: 0.6857 - val_accuracy: 0.7954\n",
      "Epoch 18/20\n",
      "18000/18000 [==============================] - 5s 302us/sample - loss: 0.1617 - accuracy: 0.9376 - val_loss: 0.7354 - val_accuracy: 0.7996\n",
      "Epoch 19/20\n",
      "18000/18000 [==============================] - 5s 303us/sample - loss: 0.1535 - accuracy: 0.9427 - val_loss: 0.6678 - val_accuracy: 0.7817\n",
      "Epoch 20/20\n",
      "18000/18000 [==============================] - 5s 304us/sample - loss: 0.1391 - accuracy: 0.9477 - val_loss: 0.8590 - val_accuracy: 0.7975\n"
     ]
    }
   ],
   "source": [
    "H = model.fit(X_train,Y_train,batch_size=128,epochs=20,callbacks=callbacks_list,validation_data=(X_test,Y_test))"
   ]
  },
  {
   "cell_type": "code",
   "execution_count": 34,
   "metadata": {},
   "outputs": [],
   "source": [
    "model.load_weights('my_model.h5')"
   ]
  },
  {
   "cell_type": "code",
   "execution_count": 35,
   "metadata": {},
   "outputs": [
    {
     "output_type": "execute_result",
     "data": {
      "text/plain": [
       "          ID\n",
       "0  25321.jpg\n",
       "1    989.jpg\n",
       "2  19277.jpg\n",
       "3  13093.jpg\n",
       "4   5367.jpg"
      ],
      "text/html": "<div>\n<style scoped>\n    .dataframe tbody tr th:only-of-type {\n        vertical-align: middle;\n    }\n\n    .dataframe tbody tr th {\n        vertical-align: top;\n    }\n\n    .dataframe thead th {\n        text-align: right;\n    }\n</style>\n<table border=\"1\" class=\"dataframe\">\n  <thead>\n    <tr style=\"text-align: right;\">\n      <th></th>\n      <th>ID</th>\n    </tr>\n  </thead>\n  <tbody>\n    <tr>\n      <th>0</th>\n      <td>25321.jpg</td>\n    </tr>\n    <tr>\n      <th>1</th>\n      <td>989.jpg</td>\n    </tr>\n    <tr>\n      <th>2</th>\n      <td>19277.jpg</td>\n    </tr>\n    <tr>\n      <th>3</th>\n      <td>13093.jpg</td>\n    </tr>\n    <tr>\n      <th>4</th>\n      <td>5367.jpg</td>\n    </tr>\n  </tbody>\n</table>\n</div>"
     },
     "metadata": {},
     "execution_count": 35
    }
   ],
   "source": [
    "test_df = pd.read_csv('test.csv')\n",
    "test_df.head()"
   ]
  },
  {
   "cell_type": "code",
   "execution_count": 37,
   "metadata": {},
   "outputs": [
    {
     "output_type": "execute_result",
     "data": {
      "text/plain": [
       "6636"
      ]
     },
     "metadata": {},
     "execution_count": 37
    }
   ],
   "source": [
    "len(test_df)"
   ]
  },
  {
   "cell_type": "code",
   "execution_count": 41,
   "metadata": {},
   "outputs": [
    {
     "output_type": "execute_result",
     "data": {
      "text/plain": [
       "          ID       test dirs\n",
       "0  25321.jpg  Test\\25321.jpg\n",
       "1    989.jpg    Test\\989.jpg\n",
       "2  19277.jpg  Test\\19277.jpg\n",
       "3  13093.jpg  Test\\13093.jpg\n",
       "4   5367.jpg   Test\\5367.jpg"
      ],
      "text/html": "<div>\n<style scoped>\n    .dataframe tbody tr th:only-of-type {\n        vertical-align: middle;\n    }\n\n    .dataframe tbody tr th {\n        vertical-align: top;\n    }\n\n    .dataframe thead th {\n        text-align: right;\n    }\n</style>\n<table border=\"1\" class=\"dataframe\">\n  <thead>\n    <tr style=\"text-align: right;\">\n      <th></th>\n      <th>ID</th>\n      <th>test dirs</th>\n    </tr>\n  </thead>\n  <tbody>\n    <tr>\n      <th>0</th>\n      <td>25321.jpg</td>\n      <td>Test\\25321.jpg</td>\n    </tr>\n    <tr>\n      <th>1</th>\n      <td>989.jpg</td>\n      <td>Test\\989.jpg</td>\n    </tr>\n    <tr>\n      <th>2</th>\n      <td>19277.jpg</td>\n      <td>Test\\19277.jpg</td>\n    </tr>\n    <tr>\n      <th>3</th>\n      <td>13093.jpg</td>\n      <td>Test\\13093.jpg</td>\n    </tr>\n    <tr>\n      <th>4</th>\n      <td>5367.jpg</td>\n      <td>Test\\5367.jpg</td>\n    </tr>\n  </tbody>\n</table>\n</div>"
     },
     "metadata": {},
     "execution_count": 41
    }
   ],
   "source": [
    "test_dirs = []\n",
    "for i in range(len(test_df)):\n",
    "    test_dirs.append(os.path.join('Test',test_df['ID'][i]))\n",
    "test_df['test dirs'] = test_dirs\n",
    "test_df.head()"
   ]
  },
  {
   "cell_type": "code",
   "execution_count": 43,
   "metadata": {},
   "outputs": [
    {
     "output_type": "stream",
     "name": "stdout",
     "text": [
      "(6636, 64, 64, 3)\n"
     ]
    }
   ],
   "source": [
    "X_test = np.zeros((len(test_df),64,64,3))\n",
    "for i in range(len(test_df)):\n",
    "    path = test_df['test dirs'][i]\n",
    "    img = load_img(path,target_size=(64,64,3))\n",
    "    arr = img_to_array(img)\n",
    "    X_test[i] = arr/255.0\n",
    "print(X_test.shape)"
   ]
  },
  {
   "cell_type": "code",
   "execution_count": 49,
   "metadata": {},
   "outputs": [],
   "source": [
    "y_pred = model.predict(X_test,batch_size=128)"
   ]
  },
  {
   "cell_type": "code",
   "execution_count": 45,
   "metadata": {},
   "outputs": [
    {
     "output_type": "stream",
     "name": "stdout",
     "text": [
      "(6636, 3)\n"
     ]
    }
   ],
   "source": [
    "print(y_pred.shape)"
   ]
  },
  {
   "cell_type": "code",
   "execution_count": 51,
   "metadata": {},
   "outputs": [
    {
     "output_type": "stream",
     "name": "stdout",
     "text": [
      "(6636,)\n[0 2 0 0 1 0 0 2 0 0 0 1 1 0 0 0 2 0 2 0 2 1 2 2 0 2 0 0 2 0 2 2 2 2 0 0 2\n 1 2 2 0 0 0 2 0 2 2 2 0 0 2 2 0 2 0 1 2 0 2 0 2 0 0 2 2 1 1 0 1 2 0 0 2 0\n 2 0 0 1 0 1 2 1 0 2 0 0 1 0 1 2 1 0 0 0 0 0 1 0 2 1 2 0 0 0 0 2 0 1 0 0 2\n 2 2 2 2 0 0 2 0 1 0 0 0 2 2 0 0 0 0 2 0 2 0 0 0 2 0 0 2 0 1 2 1 0 0 0 0 2\n 2 2 1 0 0 0 0 0 0 2 2 2 0 1 2 0 0 2 0 1 0 0 0 2 0 2 0 1 2 2 1 2 1 0 0 2 2\n 1 1 0 0 0 0 0 2 2 0 2 0 2 0 2 0 1 1 0 2 2 0 0 0 2 0 0 2 0 2 2 0 0 2 0 1 0\n 1 0 1 2 0 0 1 2 0 0 1 0 0 2 0 0 2 0 2 0 0 0 2 2 0 2 2 0 2 2 0 0 0 0 0 0 0\n 0 0 2 2 0 1 0 2 1 0 0 0 0 0 2 0 0 1 2 2 2 2 2 2 1 1 0 0 2 2 0 2 2 0 0 0 2\n 1 1 0 1 2 0 0 2 0 2 2 0 2 1 0 0 2 0 2 0 2 2 2 0 0 0 0 0 0 2 2 0 2 0 0 0 0\n 0 0 2 0 0 2 0 0 0 0 0 0 1 2 0 2 2 0 0 0 0 2 0 0 0 1 0 2 2 1 0 2 2 2 2 0 1\n 2 2 0 0 0 2 0 0 0 0 0 2 2 0 0 0 0 0 2 2 0 2 0 0 2 2 1 1 0 0 2 2 2 0 2 2 0\n 0 1 0 0 0 2 2 2 2 0 2 2 2 1 2 0 2 2 0 2 2 0 0 2 1 2 0 2 0 2 0 0 2 2 0 0 0\n 0 0 2 2 0 1 0 0 1 0 2 2 0 1 2 0 0 0 2 0 2 2 0 1 1 2 0 0 0 0 0 2 1 2 0 1 2\n 0 0 0 2 0 0 0 0 2 0 0 2 2 0 2 0 0 2 0 0 2 2 2 2 0 2 1 0 0 0 0 0 0 2 0 2 2\n 0 0 2 2 2 1 0 0 2 0 2 2 0 0 2 0 2 2 2 0 0 0 0 1 0 0 0 2 0 0 2 0 2 0 0 0 0\n 0 2 2 2 0 2 0 0 0 0 0 0 2 0 0 1 1 0 1 0 2 2 0 2 1 0 0 1 1 2 0 0 2 0 2 0 2\n 0 0 2 2 0 1 2 0 0 0 2 0 0 0 2 0 2 0 0 2 0 1 0 0 0 2 0 0 2 0 1 0 0 0 0 2 0\n 0 0 1 0 0 0 0 2 0 0 0 0 0 0 0 0 2 1 2 0 0 0 0 2 0 2 2 2 0 2 0 0 2 0 0 2 0\n 2 0 0 2 0 0 0 2 0 0 0 0 0 2 2 0 2 2 2 0 2 0 0 0 0 2 0 0 0 2 2 2 2 0 2 1 2\n 0 2 0 0 0 2 1 1 2 0 0 2 2 2 0 0 2 2 0 2 0 0 0 0 0 2 2 0 1 0 0 0 0 2 0 0 0\n 0 2 0 2 0 2 2 0 2 0 2 0 1 2 0 2 2 0 0 2 2 0 0 0 0 0 2 0 0 1 2 0 2 2 0 2 1\n 2 2 2 1 0 0 0 2 2 2 0 2 0 2 0 0 2 0 2 0 2 1 0 2 0 2 0 0 2 0 2 2 2 2 0 0 0\n 0 2 0 2 0 0 0 2 0 0 1 2 0 2 2 0 2 2 1 0 0 2 0 1 0 0 1 0 0 0 0 0 0 2 0 0 1\n 1 0 1 2 0 0 2 0 0 1 0 0 0 2 0 0 0 2 1 0 0 0 0 1 2 2 0 0 0 2 1 0 0 0 0 0 0\n 2 2 0 0 2 1 0 0 2 1 2 0 0 0 2 0 0 2 1 0 0 0 1 2 0 0 0 2 1 2 0 0 2 0 0 0 0\n 0 0 2 2 0 0 0 1 2 0 0 0 1 0 0 0 0 2 2 0 2 1 1 0 2 2 0 2 0 0 1 0 0 0 0 0 0\n 2 0 0 2 0 0 0 0 0 0 2 1 2 0 2 0 0 2 0 0 0 0 0 0 2 0 0 2 0 0 0 0 1 2 0 1 2\n 2]\n"
     ]
    }
   ],
   "source": [
    "y_pred = np.array([np.argmax(x) for x in y_pred])\n",
    "print(y_pred.shape)\n",
    "print(y_pred[:1000])"
   ]
  },
  {
   "cell_type": "code",
   "execution_count": 53,
   "metadata": {},
   "outputs": [],
   "source": [
    "y_pred_inv = encoder.inverse_transform(y_pred)"
   ]
  },
  {
   "cell_type": "code",
   "execution_count": 54,
   "metadata": {},
   "outputs": [
    {
     "output_type": "execute_result",
     "data": {
      "text/plain": [
       "array(['MIDDLE', 'YOUNG', 'MIDDLE', 'MIDDLE', 'OLD', 'MIDDLE', 'MIDDLE',\n",
       "       'YOUNG', 'MIDDLE', 'MIDDLE', 'MIDDLE', 'OLD', 'OLD', 'MIDDLE',\n",
       "       'MIDDLE', 'MIDDLE', 'YOUNG', 'MIDDLE', 'YOUNG', 'MIDDLE', 'YOUNG',\n",
       "       'OLD', 'YOUNG', 'YOUNG', 'MIDDLE', 'YOUNG', 'MIDDLE', 'MIDDLE',\n",
       "       'YOUNG', 'MIDDLE', 'YOUNG', 'YOUNG', 'YOUNG', 'YOUNG', 'MIDDLE',\n",
       "       'MIDDLE', 'YOUNG', 'OLD', 'YOUNG', 'YOUNG', 'MIDDLE', 'MIDDLE',\n",
       "       'MIDDLE', 'YOUNG', 'MIDDLE', 'YOUNG', 'YOUNG', 'YOUNG', 'MIDDLE',\n",
       "       'MIDDLE', 'YOUNG', 'YOUNG', 'MIDDLE', 'YOUNG', 'MIDDLE', 'OLD',\n",
       "       'YOUNG', 'MIDDLE', 'YOUNG', 'MIDDLE', 'YOUNG', 'MIDDLE', 'MIDDLE',\n",
       "       'YOUNG', 'YOUNG', 'OLD', 'OLD', 'MIDDLE', 'OLD', 'YOUNG', 'MIDDLE',\n",
       "       'MIDDLE', 'YOUNG', 'MIDDLE', 'YOUNG', 'MIDDLE', 'MIDDLE', 'OLD',\n",
       "       'MIDDLE', 'OLD', 'YOUNG', 'OLD', 'MIDDLE', 'YOUNG', 'MIDDLE',\n",
       "       'MIDDLE', 'OLD', 'MIDDLE', 'OLD', 'YOUNG', 'OLD', 'MIDDLE',\n",
       "       'MIDDLE', 'MIDDLE', 'MIDDLE', 'MIDDLE', 'OLD', 'MIDDLE', 'YOUNG',\n",
       "       'OLD'], dtype=object)"
      ]
     },
     "metadata": {},
     "execution_count": 54
    }
   ],
   "source": [
    "y_pred_inv[:100]"
   ]
  },
  {
   "cell_type": "code",
   "execution_count": 55,
   "metadata": {},
   "outputs": [
    {
     "output_type": "execute_result",
     "data": {
      "text/plain": [
       "          ID       test dirs   Class\n",
       "0  25321.jpg  Test\\25321.jpg  MIDDLE\n",
       "1    989.jpg    Test\\989.jpg   YOUNG\n",
       "2  19277.jpg  Test\\19277.jpg  MIDDLE\n",
       "3  13093.jpg  Test\\13093.jpg  MIDDLE\n",
       "4   5367.jpg   Test\\5367.jpg     OLD"
      ],
      "text/html": "<div>\n<style scoped>\n    .dataframe tbody tr th:only-of-type {\n        vertical-align: middle;\n    }\n\n    .dataframe tbody tr th {\n        vertical-align: top;\n    }\n\n    .dataframe thead th {\n        text-align: right;\n    }\n</style>\n<table border=\"1\" class=\"dataframe\">\n  <thead>\n    <tr style=\"text-align: right;\">\n      <th></th>\n      <th>ID</th>\n      <th>test dirs</th>\n      <th>Class</th>\n    </tr>\n  </thead>\n  <tbody>\n    <tr>\n      <th>0</th>\n      <td>25321.jpg</td>\n      <td>Test\\25321.jpg</td>\n      <td>MIDDLE</td>\n    </tr>\n    <tr>\n      <th>1</th>\n      <td>989.jpg</td>\n      <td>Test\\989.jpg</td>\n      <td>YOUNG</td>\n    </tr>\n    <tr>\n      <th>2</th>\n      <td>19277.jpg</td>\n      <td>Test\\19277.jpg</td>\n      <td>MIDDLE</td>\n    </tr>\n    <tr>\n      <th>3</th>\n      <td>13093.jpg</td>\n      <td>Test\\13093.jpg</td>\n      <td>MIDDLE</td>\n    </tr>\n    <tr>\n      <th>4</th>\n      <td>5367.jpg</td>\n      <td>Test\\5367.jpg</td>\n      <td>OLD</td>\n    </tr>\n  </tbody>\n</table>\n</div>"
     },
     "metadata": {},
     "execution_count": 55
    }
   ],
   "source": [
    "test_df['Class'] = y_pred_inv\n",
    "test_df.head()"
   ]
  },
  {
   "cell_type": "code",
   "execution_count": 56,
   "metadata": {},
   "outputs": [
    {
     "output_type": "execute_result",
     "data": {
      "text/plain": [
       "          ID   Class\n",
       "0  25321.jpg  MIDDLE\n",
       "1    989.jpg   YOUNG\n",
       "2  19277.jpg  MIDDLE\n",
       "3  13093.jpg  MIDDLE\n",
       "4   5367.jpg     OLD"
      ],
      "text/html": "<div>\n<style scoped>\n    .dataframe tbody tr th:only-of-type {\n        vertical-align: middle;\n    }\n\n    .dataframe tbody tr th {\n        vertical-align: top;\n    }\n\n    .dataframe thead th {\n        text-align: right;\n    }\n</style>\n<table border=\"1\" class=\"dataframe\">\n  <thead>\n    <tr style=\"text-align: right;\">\n      <th></th>\n      <th>ID</th>\n      <th>Class</th>\n    </tr>\n  </thead>\n  <tbody>\n    <tr>\n      <th>0</th>\n      <td>25321.jpg</td>\n      <td>MIDDLE</td>\n    </tr>\n    <tr>\n      <th>1</th>\n      <td>989.jpg</td>\n      <td>YOUNG</td>\n    </tr>\n    <tr>\n      <th>2</th>\n      <td>19277.jpg</td>\n      <td>MIDDLE</td>\n    </tr>\n    <tr>\n      <th>3</th>\n      <td>13093.jpg</td>\n      <td>MIDDLE</td>\n    </tr>\n    <tr>\n      <th>4</th>\n      <td>5367.jpg</td>\n      <td>OLD</td>\n    </tr>\n  </tbody>\n</table>\n</div>"
     },
     "metadata": {},
     "execution_count": 56
    }
   ],
   "source": [
    "test_df.drop(['test dirs'],axis=1,inplace=True)\n",
    "test_df.head()"
   ]
  },
  {
   "cell_type": "code",
   "execution_count": 57,
   "metadata": {},
   "outputs": [
    {
     "output_type": "execute_result",
     "data": {
      "text/plain": [
       "['ID', 'Class']"
      ]
     },
     "metadata": {},
     "execution_count": 57
    }
   ],
   "source": [
    "cols = test_df.columns.tolist()\n",
    "cols"
   ]
  },
  {
   "cell_type": "code",
   "execution_count": 58,
   "metadata": {},
   "outputs": [
    {
     "output_type": "execute_result",
     "data": {
      "text/plain": [
       "['Class', 'ID']"
      ]
     },
     "metadata": {},
     "execution_count": 58
    }
   ],
   "source": [
    "cols = cols[-1:] + cols[:-1]\n",
    "cols"
   ]
  },
  {
   "cell_type": "code",
   "execution_count": 59,
   "metadata": {},
   "outputs": [
    {
     "output_type": "execute_result",
     "data": {
      "text/plain": [
       "    Class         ID\n",
       "0  MIDDLE  25321.jpg\n",
       "1   YOUNG    989.jpg\n",
       "2  MIDDLE  19277.jpg\n",
       "3  MIDDLE  13093.jpg\n",
       "4     OLD   5367.jpg"
      ],
      "text/html": "<div>\n<style scoped>\n    .dataframe tbody tr th:only-of-type {\n        vertical-align: middle;\n    }\n\n    .dataframe tbody tr th {\n        vertical-align: top;\n    }\n\n    .dataframe thead th {\n        text-align: right;\n    }\n</style>\n<table border=\"1\" class=\"dataframe\">\n  <thead>\n    <tr style=\"text-align: right;\">\n      <th></th>\n      <th>Class</th>\n      <th>ID</th>\n    </tr>\n  </thead>\n  <tbody>\n    <tr>\n      <th>0</th>\n      <td>MIDDLE</td>\n      <td>25321.jpg</td>\n    </tr>\n    <tr>\n      <th>1</th>\n      <td>YOUNG</td>\n      <td>989.jpg</td>\n    </tr>\n    <tr>\n      <th>2</th>\n      <td>MIDDLE</td>\n      <td>19277.jpg</td>\n    </tr>\n    <tr>\n      <th>3</th>\n      <td>MIDDLE</td>\n      <td>13093.jpg</td>\n    </tr>\n    <tr>\n      <th>4</th>\n      <td>OLD</td>\n      <td>5367.jpg</td>\n    </tr>\n  </tbody>\n</table>\n</div>"
     },
     "metadata": {},
     "execution_count": 59
    }
   ],
   "source": [
    "test_df = test_df[cols]\n",
    "test_df.head()"
   ]
  },
  {
   "cell_type": "code",
   "execution_count": 61,
   "metadata": {},
   "outputs": [],
   "source": [
    "pd.DataFrame(test_df).to_csv('submission_regCNN.csv',columns=['Class','ID'],index=None)\n"
   ]
  },
  {
   "cell_type": "code",
   "execution_count": null,
   "metadata": {},
   "outputs": [],
   "source": []
  }
 ]
}