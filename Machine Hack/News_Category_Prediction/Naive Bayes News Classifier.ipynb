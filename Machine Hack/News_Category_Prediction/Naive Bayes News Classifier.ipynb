{
 "metadata": {
  "language_info": {
   "codemirror_mode": {
    "name": "ipython",
    "version": 3
   },
   "file_extension": ".py",
   "mimetype": "text/x-python",
   "name": "python",
   "nbconvert_exporter": "python",
   "pygments_lexer": "ipython3",
   "version": "3.7.4-final"
  },
  "orig_nbformat": 2,
  "kernelspec": {
   "name": "python_defaultSpec_1599196210399",
   "display_name": "Python 3.7.4 64-bit ('Anaconda': conda)"
  }
 },
 "nbformat": 4,
 "nbformat_minor": 2,
 "cells": [
  {
   "cell_type": "code",
   "execution_count": 1,
   "metadata": {},
   "outputs": [],
   "source": [
    "import numpy as np\n",
    "import matplotlib.pyplot as plt\n",
    "import pandas as pd"
   ]
  },
  {
   "cell_type": "code",
   "execution_count": 5,
   "metadata": {},
   "outputs": [],
   "source": [
    "dfs = pd.read_excel('Data\\Participants_Data_News_category\\Data_Train.xlsx')"
   ]
  },
  {
   "cell_type": "code",
   "execution_count": 6,
   "metadata": {},
   "outputs": [
    {
     "output_type": "execute_result",
     "data": {
      "text/plain": "                                               STORY  SECTION\n0  But the most painful was the huge reversal in ...        3\n1  How formidable is the opposition alliance amon...        0\n2  Most Asian currencies were trading lower today...        3\n3  If you want to answer any question, click on ‘...        1\n4  In global markets, gold prices edged up today ...        3",
      "text/html": "<div>\n<style scoped>\n    .dataframe tbody tr th:only-of-type {\n        vertical-align: middle;\n    }\n\n    .dataframe tbody tr th {\n        vertical-align: top;\n    }\n\n    .dataframe thead th {\n        text-align: right;\n    }\n</style>\n<table border=\"1\" class=\"dataframe\">\n  <thead>\n    <tr style=\"text-align: right;\">\n      <th></th>\n      <th>STORY</th>\n      <th>SECTION</th>\n    </tr>\n  </thead>\n  <tbody>\n    <tr>\n      <td>0</td>\n      <td>But the most painful was the huge reversal in ...</td>\n      <td>3</td>\n    </tr>\n    <tr>\n      <td>1</td>\n      <td>How formidable is the opposition alliance amon...</td>\n      <td>0</td>\n    </tr>\n    <tr>\n      <td>2</td>\n      <td>Most Asian currencies were trading lower today...</td>\n      <td>3</td>\n    </tr>\n    <tr>\n      <td>3</td>\n      <td>If you want to answer any question, click on ‘...</td>\n      <td>1</td>\n    </tr>\n    <tr>\n      <td>4</td>\n      <td>In global markets, gold prices edged up today ...</td>\n      <td>3</td>\n    </tr>\n  </tbody>\n</table>\n</div>"
     },
     "metadata": {},
     "execution_count": 6
    }
   ],
   "source": [
    "dfs.head()"
   ]
  },
  {
   "cell_type": "code",
   "execution_count": 93,
   "metadata": {},
   "outputs": [],
   "source": [
    "#x = dfs.loc[:,'STORY'].values\n",
    "y = dfs.loc[:,'SECTION'].values"
   ]
  },
  {
   "cell_type": "code",
   "execution_count": 9,
   "metadata": {},
   "outputs": [
    {
     "output_type": "execute_result",
     "data": {
      "text/plain": "array(['But the most painful was the huge reversal in fee income, unheard of among private sector lenders. Essentially, it means that Yes Bank took it for granted that fees on structured loan deals will be paid and accounted for upfront on its books. As borrowers turned defaulters, the fees tied to these loan deals fell off the cracks. Gill has now vowed to shift to a safer accounting practice of amortizing fee income rather than booking these upfront.\\n\\n\\nGill’s move to mend past ways means that there will be no nasty surprises in the future. This is good news considering that investors love a clean image and loathe uncertainties.\\n\\n\\nBut there is no gain without pain and the promise of a strong and stable balance sheet comes with some sacrifices as well. Investors will have to give up the hopes of phenomenal growth, a promise made by Kapoor.',\n       'How formidable is the opposition alliance among Congress, Jharkhand Mukti Morcha (JMM) and Jharkhand Vikas Morcha (Prajatantrik)?',\n       'Most Asian currencies were trading lower today. South Korean won was down 0.4%, China renminbi 0.23%, China Offshore 0.15%, Malaysian ringgit 0.12%, Indonesian rupiah 0.11%, Taiwan dollar 0.06%. However, Japanese yen was up 0.32%.\\n\\n\\nThe dollar index, which measures the US currency’s strength against major currencies, was trading at 97.26, down 0.14% from its previous close of 97.395.',\n       'If you want to answer any question, click on ‘Answer’. After clicking on Answer you can also check out replies of other users. Proceed to Answer either through writing or voice command.\\n\\n\\nIf you want to ask any question, click on “Ask A Question\". Few question prefixes are already inserted to help you with your questions. After submitting your question, the app will send the questions to your neighbours and will let you know how many neighbours\\n\\n\\nhave been asked the question. Click Done. You can click on the bell icon on the homepage of the app to follow answers to your questions.',\n       'In global markets, gold prices edged up today as disappointing Chinese factory activity data brought back concerns about the health of the global economy, denting risk appetite. Spot gold rose 0.4% to $1,285 per ounce. European equity markets nudged down today, following weaker Asian stock markets.'],\n      dtype=object)"
     },
     "metadata": {},
     "execution_count": 9
    }
   ],
   "source": [
    "x[:5]"
   ]
  },
  {
   "cell_type": "code",
   "execution_count": 10,
   "metadata": {},
   "outputs": [],
   "source": [
    "import string"
   ]
  },
  {
   "cell_type": "code",
   "execution_count": 14,
   "metadata": {},
   "outputs": [],
   "source": [
    "content = [str.strip() for str in x]\n",
    "\n",
    "digits = np.arange(10)\n",
    "digits_str = [str(k) for k in digits]\n"
   ]
  },
  {
   "cell_type": "code",
   "execution_count": 15,
   "metadata": {},
   "outputs": [
    {
     "output_type": "execute_result",
     "data": {
      "text/plain": "['But the most painful was the huge reversal in fee income, unheard of among private sector lenders. Essentially, it means that Yes Bank took it for granted that fees on structured loan deals will be paid and accounted for upfront on its books. As borrowers turned defaulters, the fees tied to these loan deals fell off the cracks. Gill has now vowed to shift to a safer accounting practice of amortizing fee income rather than booking these upfront.\\n\\n\\nGill’s move to mend past ways means that there will be no nasty surprises in the future. This is good news considering that investors love a clean image and loathe uncertainties.\\n\\n\\nBut there is no gain without pain and the promise of a strong and stable balance sheet comes with some sacrifices as well. Investors will have to give up the hopes of phenomenal growth, a promise made by Kapoor.',\n 'How formidable is the opposition alliance among Congress, Jharkhand Mukti Morcha (JMM) and Jharkhand Vikas Morcha (Prajatantrik)?']"
     },
     "metadata": {},
     "execution_count": 15
    }
   ],
   "source": [
    "content[:2]"
   ]
  },
  {
   "cell_type": "code",
   "execution_count": 13,
   "metadata": {},
   "outputs": [],
   "source": [
    "def full_removal(x,removal_list):\n",
    "    for w in removal_list:\n",
    "        x = x.replace(w,' ')\n",
    "    return x"
   ]
  },
  {
   "cell_type": "code",
   "execution_count": 18,
   "metadata": {},
   "outputs": [],
   "source": [
    "digit_less = [full_removal(k, digits_str) for k in content]\n",
    "punc_less = [full_removal(k,list(string.punctuation)) for k in digit_less]\n",
    "\n",
    "sent_lower = [s.lower() for s in punc_less]"
   ]
  },
  {
   "cell_type": "code",
   "execution_count": 19,
   "metadata": {},
   "outputs": [
    {
     "output_type": "execute_result",
     "data": {
      "text/plain": "['if you want to answer any question  click on ‘answer’  after clicking on answer you can also check out replies of other users  proceed to answer either through writing or voice command \\n\\n\\nif you want to ask any question  click on “ask a question   few question prefixes are already inserted to help you with your questions  after submitting your question  the app will send the questions to your neighbours and will let you know how many neighbours\\n\\n\\nhave been asked the question  click done  you can click on the bell icon on the homepage of the app to follow answers to your questions ',\n 'in global markets  gold prices edged up today as disappointing chinese factory activity data brought back concerns about the health of the global economy  denting risk appetite  spot gold rose      to        per ounce  european equity markets nudged down today  following weaker asian stock markets ']"
     },
     "metadata": {},
     "execution_count": 19
    }
   ],
   "source": [
    "sent_lower[3:5]"
   ]
  },
  {
   "cell_type": "code",
   "execution_count": 20,
   "metadata": {},
   "outputs": [
    {
     "output_type": "execute_result",
     "data": {
      "text/plain": "'if you want to answer any question  click on ‘answer’  after clicking on answer you can also check out replies of other users  proceed to answer either through writing or voice command \\n\\n\\nif you want to ask any question  click on “ask a question   few question prefixes are already inserted to help you with your questions  after submitting your question  the app will send the questions to your neighbours and will let you know how many neighbours\\n\\n\\nhave been asked the question  click done  you can click on the bell icon on the homepage of the app to follow answers to your questions '"
     },
     "metadata": {},
     "execution_count": 20
    }
   ],
   "source": [
    "a = sent_lower[3]\n",
    "a = a.strip()\n",
    "a.append('''''')\n",
    "a = [' '.join()]"
   ]
  },
  {
   "cell_type": "code",
   "execution_count": 21,
   "metadata": {},
   "outputs": [
    {
     "output_type": "execute_result",
     "data": {
      "text/plain": "'if you want to answer any question  click on ‘answer’  after clicking on answer you can also check out replies of other users  proceed to answer either through writing or voice command \\n\\n\\nif you want to ask any question  click on “ask a question   few question prefixes are already inserted to help you with your questions  after submitting your question  the app will send the questions to your neighbours and will let you know how many neighbours\\n\\n\\nhave been asked the question  click done  you can click on the bell icon on the homepage of the app to follow answers to your questions '"
     },
     "metadata": {},
     "execution_count": 21
    }
   ],
   "source": [
    "b = list(string.punctuation)\n",
    "for w in b:\n",
    "    a = a.replace(w, ' ')\n",
    "a"
   ]
  },
  {
   "cell_type": "code",
   "execution_count": 23,
   "metadata": {},
   "outputs": [
    {
     "output_type": "execute_result",
     "data": {
      "text/plain": "['!',\n '\"',\n '#',\n '$',\n '%',\n '&',\n \"'\",\n '(',\n ')',\n '*',\n '+',\n ',',\n '-',\n '.',\n '/',\n ':',\n ';',\n '<',\n '=',\n '>',\n '?',\n '@',\n '[',\n '\\\\',\n ']',\n '^',\n '_',\n '`',\n '{',\n '|',\n '}',\n '~']"
     },
     "metadata": {},
     "execution_count": 23
    }
   ],
   "source": [
    "list(string.punctuation)"
   ]
  },
  {
   "cell_type": "code",
   "execution_count": 27,
   "metadata": {},
   "outputs": [],
   "source": [
    "c = 'a an the '"
   ]
  },
  {
   "cell_type": "code",
   "execution_count": 33,
   "metadata": {},
   "outputs": [
    {
     "output_type": "execute_result",
     "data": {
      "text/plain": "['a', 'an', 'the']"
     },
     "metadata": {},
     "execution_count": 33
    }
   ],
   "source": [
    "d = c.split()\n",
    "d"
   ]
  },
  {
   "cell_type": "code",
   "execution_count": 34,
   "metadata": {},
   "outputs": [
    {
     "output_type": "execute_result",
     "data": {
      "text/plain": "['a an the']"
     },
     "metadata": {},
     "execution_count": 34
    }
   ],
   "source": [
    "[' '.join(d)]"
   ]
  },
  {
   "cell_type": "code",
   "execution_count": 44,
   "metadata": {},
   "outputs": [],
   "source": [
    "punc = list(string.punctuation)\n",
    "ad = ['“','‘','’','\\n']\n",
    "for x in ad:\n",
    "    punc.append(x)"
   ]
  },
  {
   "cell_type": "code",
   "execution_count": 45,
   "metadata": {},
   "outputs": [
    {
     "output_type": "execute_result",
     "data": {
      "text/plain": "['!',\n '\"',\n '#',\n '$',\n '%',\n '&',\n \"'\",\n '(',\n ')',\n '*',\n '+',\n ',',\n '-',\n '.',\n '/',\n ':',\n ';',\n '<',\n '=',\n '>',\n '?',\n '@',\n '[',\n '\\\\',\n ']',\n '^',\n '_',\n '`',\n '{',\n '|',\n '}',\n '~',\n '“',\n '‘',\n '’',\n '\\n']"
     },
     "metadata": {},
     "execution_count": 45
    }
   ],
   "source": [
    "punc"
   ]
  },
  {
   "cell_type": "code",
   "execution_count": 46,
   "metadata": {},
   "outputs": [],
   "source": [
    "s = sent_lower[3]"
   ]
  },
  {
   "cell_type": "code",
   "execution_count": 47,
   "metadata": {},
   "outputs": [
    {
     "output_type": "execute_result",
     "data": {
      "text/plain": "'if you want to answer any question  click on ‘answer’  after clicking on answer you can also check out replies of other users  proceed to answer either through writing or voice command \\n\\n\\nif you want to ask any question  click on “ask a question   few question prefixes are already inserted to help you with your questions  after submitting your question  the app will send the questions to your neighbours and will let you know how many neighbours\\n\\n\\nhave been asked the question  click done  you can click on the bell icon on the homepage of the app to follow answers to your questions '"
     },
     "metadata": {},
     "execution_count": 47
    }
   ],
   "source": []
  },
  {
   "cell_type": "code",
   "execution_count": 48,
   "metadata": {},
   "outputs": [
    {
     "output_type": "execute_result",
     "data": {
      "text/plain": "'if you want to answer any question  click on  answer   after clicking on answer you can also check out replies of other users  proceed to answer either through writing or voice command    if you want to ask any question  click on  ask a question   few question prefixes are already inserted to help you with your questions  after submitting your question  the app will send the questions to your neighbours and will let you know how many neighbours   have been asked the question  click done  you can click on the bell icon on the homepage of the app to follow answers to your questions '"
     },
     "metadata": {},
     "execution_count": 48
    }
   ],
   "source": [
    "for w in punc:\n",
    "    s = s.replace(w,' ')\n",
    "s"
   ]
  },
  {
   "cell_type": "code",
   "execution_count": 49,
   "metadata": {},
   "outputs": [
    {
     "output_type": "execute_result",
     "data": {
      "text/plain": "['if',\n 'you',\n 'want',\n 'to',\n 'answer',\n 'any',\n 'question',\n 'click',\n 'on',\n 'answer',\n 'after',\n 'clicking',\n 'on',\n 'answer',\n 'you',\n 'can',\n 'also',\n 'check',\n 'out',\n 'replies',\n 'of',\n 'other',\n 'users',\n 'proceed',\n 'to',\n 'answer',\n 'either',\n 'through',\n 'writing',\n 'or',\n 'voice',\n 'command',\n 'if',\n 'you',\n 'want',\n 'to',\n 'ask',\n 'any',\n 'question',\n 'click',\n 'on',\n 'ask',\n 'a',\n 'question',\n 'few',\n 'question',\n 'prefixes',\n 'are',\n 'already',\n 'inserted',\n 'to',\n 'help',\n 'you',\n 'with',\n 'your',\n 'questions',\n 'after',\n 'submitting',\n 'your',\n 'question',\n 'the',\n 'app',\n 'will',\n 'send',\n 'the',\n 'questions',\n 'to',\n 'your',\n 'neighbours',\n 'and',\n 'will',\n 'let',\n 'you',\n 'know',\n 'how',\n 'many',\n 'neighbours',\n 'have',\n 'been',\n 'asked',\n 'the',\n 'question',\n 'click',\n 'done',\n 'you',\n 'can',\n 'click',\n 'on',\n 'the',\n 'bell',\n 'icon',\n 'on',\n 'the',\n 'homepage',\n 'of',\n 'the',\n 'app',\n 'to',\n 'follow',\n 'answers',\n 'to',\n 'your',\n 'questions']"
     },
     "metadata": {},
     "execution_count": 49
    }
   ],
   "source": [
    "s =s.split()\n",
    "s"
   ]
  },
  {
   "cell_type": "code",
   "execution_count": 50,
   "metadata": {},
   "outputs": [
    {
     "output_type": "execute_result",
     "data": {
      "text/plain": "['if you want to answer any question click on answer after clicking on answer you can also check out replies of other users proceed to answer either through writing or voice command if you want to ask any question click on ask a question few question prefixes are already inserted to help you with your questions after submitting your question the app will send the questions to your neighbours and will let you know how many neighbours have been asked the question click done you can click on the bell icon on the homepage of the app to follow answers to your questions']"
     },
     "metadata": {},
     "execution_count": 50
    }
   ],
   "source": [
    "s = [' '.join(s)]\n",
    "s"
   ]
  },
  {
   "cell_type": "code",
   "execution_count": 60,
   "metadata": {},
   "outputs": [
    {
     "output_type": "execute_result",
     "data": {
      "text/plain": "'while netflix contended that carrying out such an attack would not be easy as it requires access to network traffic for analysis  the iit madras researchers pointed out that tricking users into connecting to rogue routers or access points is quite possible for hackers \\n\\n\\nanalysing the choices that     viewers made  the researchers were able to determine the decisions correctly     of the time  the report said '"
     },
     "metadata": {},
     "execution_count": 60
    }
   ],
   "source": [
    "sent_lower[69]"
   ]
  },
  {
   "cell_type": "code",
   "execution_count": 52,
   "metadata": {},
   "outputs": [
    {
     "output_type": "execute_result",
     "data": {
      "text/plain": "['!',\n '\"',\n '#',\n '$',\n '%',\n '&',\n \"'\",\n '(',\n ')',\n '*',\n '+',\n ',',\n '-',\n '.',\n '/',\n ':',\n ';',\n '<',\n '=',\n '>',\n '?',\n '@',\n '[',\n '\\\\',\n ']',\n '^',\n '_',\n '`',\n '{',\n '|',\n '}',\n '~',\n '“',\n '‘',\n '’',\n '\\n']"
     },
     "metadata": {},
     "execution_count": 52
    }
   ],
   "source": [
    "punc"
   ]
  },
  {
   "cell_type": "code",
   "execution_count": 57,
   "metadata": {
    "tags": []
   },
   "outputs": [
    {
     "output_type": "stream",
     "name": "stdout",
     "text": "Exists\n"
    }
   ],
   "source": [
    "if ('–' in punc):\n",
    "    print(\"Exists\")\n",
    "else:\n",
    "    print('Nope')"
   ]
  },
  {
   "cell_type": "code",
   "execution_count": 56,
   "metadata": {},
   "outputs": [],
   "source": [
    "punc.append('–')"
   ]
  },
  {
   "cell_type": "code",
   "execution_count": 61,
   "metadata": {},
   "outputs": [],
   "source": [
    "sent_lower = [full_removal(x,punc) for x in sent_lower]"
   ]
  },
  {
   "cell_type": "code",
   "execution_count": 62,
   "metadata": {},
   "outputs": [
    {
     "output_type": "execute_result",
     "data": {
      "text/plain": "['but the most painful was the huge reversal in fee income  unheard of among private sector lenders  essentially  it means that yes bank took it for granted that fees on structured loan deals will be paid and accounted for upfront on its books  as borrowers turned defaulters  the fees tied to these loan deals fell off the cracks  gill has now vowed to shift to a safer accounting practice of amortizing fee income rather than booking these upfront    gill s move to mend past ways means that there will be no nasty surprises in the future  this is good news considering that investors love a clean image and loathe uncertainties    but there is no gain without pain and the promise of a strong and stable balance sheet comes with some sacrifices as well  investors will have to give up the hopes of phenomenal growth  a promise made by kapoor ',\n 'how formidable is the opposition alliance among congress  jharkhand mukti morcha  jmm  and jharkhand vikas morcha  prajatantrik  ',\n 'most asian currencies were trading lower today  south korean won was down       china renminbi        china offshore        malaysian ringgit        indonesian rupiah        taiwan dollar        however  japanese yen was up          the dollar index  which measures the us currency s strength against major currencies  was trading at        down       from its previous close of        ',\n 'if you want to answer any question  click on  answer   after clicking on answer you can also check out replies of other users  proceed to answer either through writing or voice command    if you want to ask any question  click on  ask a question   few question prefixes are already inserted to help you with your questions  after submitting your question  the app will send the questions to your neighbours and will let you know how many neighbours   have been asked the question  click done  you can click on the bell icon on the homepage of the app to follow answers to your questions ',\n 'in global markets  gold prices edged up today as disappointing chinese factory activity data brought back concerns about the health of the global economy  denting risk appetite  spot gold rose      to        per ounce  european equity markets nudged down today  following weaker asian stock markets ',\n 'beijing  chinese tech giant huawei has announced plans to release a next generation smartphone based on its own technology instead of us components  stepping up efforts to compete directly with western industry leaders    thursday s announcement comes as huawei technologies ltd   the world s biggest maker of network gear for phone companies  combats us warnings the company might be a security risk ',\n 'mumbai  india inc s external commercial borrowings  ecbs  fell by     to       billion in january      as compared to the year ago period  data from the reserve bank of india  rbi  has showed    domestic firms had raised       billion from overseas sources during january       of the total borrowings during the month        billion was raised through the automatic route of external commercial borrowings  ecbs   the remaining      million was taken through the approval route  according to rbi data on ecb for january      ',\n 'on wednesday  federal reserve chairman jerome powell said interest rates could be on hold for  some time  as global risks weigh on the economic outlook and inflation remains muted    the    year gilt yield was trading at        against its wednesday s close of         bond yields and prices move in opposite directions ',\n 'what more can you give to the audience  i have already done yeh hai aashiqui and pyaar tune kya kiya    i always thought that there were two kind of people   good and bad  who keep interchanging as per situations',\n 'com  arbaaz khan spoke about getting back to dabangg and how salman perfectly slipped into character  seven years after dabangg     salman has already shot for a song in indore and arbaaz was just surprised when he saw his brother on the sets']"
     },
     "metadata": {},
     "execution_count": 62
    }
   ],
   "source": [
    "sent_lower[:10]"
   ]
  },
  {
   "cell_type": "code",
   "execution_count": 66,
   "metadata": {},
   "outputs": [],
   "source": [
    "stop_words = ['the', 'a', 'an', 'i', 'he', 'she', 'they', 'to', 'of', 'it', 'from']\n",
    "\n",
    "sent_split = [s.split() for s in sent_lower]"
   ]
  },
  {
   "cell_type": "code",
   "execution_count": 108,
   "metadata": {},
   "outputs": [],
   "source": [
    "sent_ready = [' '.join(list(filter(lambda k: k not in stop_words, x))) for x in sent_split]"
   ]
  },
  {
   "cell_type": "code",
   "execution_count": 109,
   "metadata": {},
   "outputs": [
    {
     "output_type": "execute_result",
     "data": {
      "text/plain": "['but most painful was huge reversal in fee income unheard among private sector lenders essentially means that yes bank took for granted that fees on structured loan deals will be paid and accounted for upfront on its books as borrowers turned defaulters fees tied these loan deals fell off cracks gill has now vowed shift safer accounting practice amortizing fee income rather than booking these upfront gill s move mend past ways means that there will be no nasty surprises in future this is good news considering that investors love clean image and loathe uncertainties but there is no gain without pain and promise strong and stable balance sheet comes with some sacrifices as well investors will have give up hopes phenomenal growth promise made by kapoor',\n 'how formidable is opposition alliance among congress jharkhand mukti morcha jmm and jharkhand vikas morcha prajatantrik',\n 'most asian currencies were trading lower today south korean won was down china renminbi china offshore malaysian ringgit indonesian rupiah taiwan dollar however japanese yen was up dollar index which measures us currency s strength against major currencies was trading at down its previous close',\n 'if you want answer any question click on answer after clicking on answer you can also check out replies other users proceed answer either through writing or voice command if you want ask any question click on ask question few question prefixes are already inserted help you with your questions after submitting your question app will send questions your neighbours and will let you know how many neighbours have been asked question click done you can click on bell icon on homepage app follow answers your questions',\n 'in global markets gold prices edged up today as disappointing chinese factory activity data brought back concerns about health global economy denting risk appetite spot gold rose per ounce european equity markets nudged down today following weaker asian stock markets',\n 'beijing chinese tech giant huawei has announced plans release next generation smartphone based on its own technology instead us components stepping up efforts compete directly with western industry leaders thursday s announcement comes as huawei technologies ltd world s biggest maker network gear for phone companies combats us warnings company might be security risk',\n 'mumbai india inc s external commercial borrowings ecbs fell by billion in january as compared year ago period data reserve bank india rbi has showed domestic firms had raised billion overseas sources during january total borrowings during month billion was raised through automatic route external commercial borrowings ecbs remaining million was taken through approval route according rbi data on ecb for january',\n 'on wednesday federal reserve chairman jerome powell said interest rates could be on hold for some time as global risks weigh on economic outlook and inflation remains muted year gilt yield was trading at against its wednesday s close bond yields and prices move in opposite directions',\n 'what more can you give audience have already done yeh hai aashiqui and pyaar tune kya kiya always thought that there were two kind people good and bad who keep interchanging as per situations',\n 'com arbaaz khan spoke about getting back dabangg and how salman perfectly slipped into character seven years after dabangg salman has already shot for song in indore and arbaaz was just surprised when saw his brother on sets']"
     },
     "metadata": {},
     "execution_count": 109
    }
   ],
   "source": [
    "sent_ready[:10]"
   ]
  },
  {
   "cell_type": "code",
   "execution_count": 99,
   "metadata": {},
   "outputs": [
    {
     "output_type": "execute_result",
     "data": {
      "text/plain": "array([3, 0, 3, 1, 3, 1, 3, 3, 2, 2], dtype=int64)"
     },
     "metadata": {},
     "execution_count": 99
    }
   ],
   "source": [
    "y[:10]"
   ]
  },
  {
   "cell_type": "code",
   "execution_count": 110,
   "metadata": {},
   "outputs": [],
   "source": [
    "from sklearn.feature_extraction.text import CountVectorizer\n",
    "\n",
    "vectorizer = CountVectorizer()\n",
    "\n",
    "count = vectorizer.fit_transform(sent_ready)"
   ]
  },
  {
   "cell_type": "code",
   "execution_count": 111,
   "metadata": {},
   "outputs": [
    {
     "output_type": "execute_result",
     "data": {
      "text/plain": "MultinomialNB(alpha=1.0, class_prior=None, fit_prior=True)"
     },
     "metadata": {},
     "execution_count": 111
    }
   ],
   "source": [
    "from sklearn.naive_bayes import MultinomialNB\n",
    "\n",
    "classifier = MultinomialNB()\n",
    "classifier.fit(count,y)"
   ]
  },
  {
   "cell_type": "code",
   "execution_count": 112,
   "metadata": {},
   "outputs": [],
   "source": [
    "#sent_ready = y[:,np.newaxis]\n",
    "train_pred = classifier.predict(count)"
   ]
  },
  {
   "cell_type": "code",
   "execution_count": 113,
   "metadata": {
    "tags": []
   },
   "outputs": [
    {
     "output_type": "stream",
     "name": "stdout",
     "text": "0.980859989512323\n"
    }
   ],
   "source": [
    "from sklearn.metrics import accuracy_score\n",
    "\n",
    "print(accuracy_score(y,train_pred))"
   ]
  },
  {
   "cell_type": "code",
   "execution_count": 114,
   "metadata": {},
   "outputs": [],
   "source": [
    "df_test = pd.read_excel('Data\\Participants_Data_News_category\\Data_Test.xlsx')"
   ]
  },
  {
   "cell_type": "code",
   "execution_count": 115,
   "metadata": {},
   "outputs": [
    {
     "output_type": "execute_result",
     "data": {
      "text/plain": "                                               STORY\n0  2019 will see gadgets like gaming smartphones ...\n1  It has also unleashed a wave of changes in the...\n2  It can be confusing to pick the right smartpho...\n3  The mobile application is integrated with a da...\n4  We have rounded up some of the gadgets that sh...",
      "text/html": "<div>\n<style scoped>\n    .dataframe tbody tr th:only-of-type {\n        vertical-align: middle;\n    }\n\n    .dataframe tbody tr th {\n        vertical-align: top;\n    }\n\n    .dataframe thead th {\n        text-align: right;\n    }\n</style>\n<table border=\"1\" class=\"dataframe\">\n  <thead>\n    <tr style=\"text-align: right;\">\n      <th></th>\n      <th>STORY</th>\n    </tr>\n  </thead>\n  <tbody>\n    <tr>\n      <td>0</td>\n      <td>2019 will see gadgets like gaming smartphones ...</td>\n    </tr>\n    <tr>\n      <td>1</td>\n      <td>It has also unleashed a wave of changes in the...</td>\n    </tr>\n    <tr>\n      <td>2</td>\n      <td>It can be confusing to pick the right smartpho...</td>\n    </tr>\n    <tr>\n      <td>3</td>\n      <td>The mobile application is integrated with a da...</td>\n    </tr>\n    <tr>\n      <td>4</td>\n      <td>We have rounded up some of the gadgets that sh...</td>\n    </tr>\n  </tbody>\n</table>\n</div>"
     },
     "metadata": {},
     "execution_count": 115
    }
   ],
   "source": [
    "df_test.head()"
   ]
  },
  {
   "cell_type": "code",
   "execution_count": 116,
   "metadata": {},
   "outputs": [
    {
     "output_type": "execute_result",
     "data": {
      "text/plain": "array([['2019 will see gadgets like gaming smartphones and wearable medical devices lifting the user experience to a whole new level\\n\\n\\nmint-india-wire consumer technologyconsumer technology trends in New Yeartech gadgetsFoldable phonesgaming smartphoneswearable medical devicestechnology\\n\\n\\nNew Delhi: Gadgets have become an integral part of our lives with most of us relying on some form of factor to communicate, commute, work, be informed or entertained. Year 2019 will see some gadgets lifting the user experience to a whole new level. Here’s what we can expect to see:\\n\\n\\nSmartphones with foldable screens: Foldable phones are finally moving from the concept stage to commercial launches. They are made up of organic light-emitting diode (OLED) panels with higher plastic substrates, allowing them to be bent without damage.\\n\\n\\nUS-based display maker Royole Corp’s foldable phone, FlexPai, has already arrived in select markets, while Samsung’s unnamed foldable phone is expected sometime next year. Samsung’s smartphone chief executive officer D.J. Koh has said they will make a million units of it. LG, too, is expected to display a foldable phone next year. Meanwhile Apple, Nokia, Lenovo and Huawei have also been working on foldable phones, reportedly.\\n\\n\\neSIM: Very soon your smartphone won’t need a physical SIM card anymore. The eSIM technology, already used by Apple in its iPhones and Apple Watch, replaces the physical SIM with a virtually embedded chip on the motherboard. eSIMs support multiple mobile operators and can be programmed to switch services.'],\n       ['It has also unleashed a wave of changes in the MCU that will make sure its future is a lot different than its past\\n\\n\\nKevin Feige had signalled diversity and more representation in the post-phase 3 MCU and Endgame does a lot to showcase the initiative'],\n       ['It can be confusing to pick the right smartphone for yourself, so we have segregated the top smartphones under Rs 20,000 according to their strengths.\\n\\n\\nThe best smartphones under ₹20,000 categorised according to performance, camera, design and battery life\\n\\n\\nmint-india-wire phones under Rs 20000Poco F1Realme U1Redmi Note 6 Prorealme 2 proHonor PlayNokia 7.1Nova 3iAsus Zenfone Max Pro M1\\n\\n\\nGone are the days when you had to shell out big buck for buying smartphones with premium features. Technology has become more accessible recently and the biggest example of that lies in the sub-Rs 20,000 category—you get good performance, design and even software at a reasonable price.\\n\\n\\nIt can be confusing to pick the right smartphone for you, however, given the amount of variety that lies in the segment. So we have segregated the top smartphones under ₹ 20,000 according to their strengths, so you can pick the one that suits you best.\\n\\n\\nThis phone actually lies just north of the ₹ 20,000 price point. But if you have an HDFC debit or credit card, you can purchase the lowest spec variant with 6GB RAM and 64GB internal storage for as low as ₹ 19,999, making it the cheapest smartphone to run a Qualcomm Snapdragon 845 SoC. There’s not a lot to not like about this phone—it has the fastest processor Qualcomm has to offer, some thermal trickery to keep your smartphone cool during intense gaming sessions, a very good camera and some durable plastic that doesn’t shatter or pick up scratches.\\n\\n\\nIt even gets a modded version of the MIUI with an app drawer that allows you colour code your applications.'],\n       ['The mobile application is integrated with a dashboard to confirm and register the pre-registered cases, to enable online interface between the beneficiary and the panel lawyer through video conferencing and telephone facility.\\n\\n\\nPrasad said that a pilot project in this regard had proved useful and more than 50,000 people have already availed this service. Till January, it resulted in enabling legal advice to 49,192 beneficiaries that include 36,526 (Women), 7049 (SC) and 13970 (ST) in 11 states including Uttar Pradesh, Bihar and all North-Eastern states and the State of Jammu and Kashmir, he said.\\n\\n\\nThe law minister was of the view that pro bono appearances by lawyers should be considered as a criteria for appointment as judges. He was also of the view that there was a need for legal literacy in India.'],\n       ['We have rounded up some of the gadgets that showed up in 2018 and left an indelible mark on, consumers, experts and the tech industry\\n\\n\\nYoungsters playing PUBG Mobile on their smartphone for hours, elderly switching off the lights using voice or a family watching their favourite movie in 4K HDR on Netflix are some of the habits which were shaped by the gadgets around them. We have rounded up some of the gadgets that showed up in 2018 and left an indelible mark on, consumers, experts and the tech industry .\\n\\n\\nThe Echo Plus 2 takes the whole IoT experience up by a few notches with features such as Zigbee smart hub which can find IoT products on its own, the temperature sensor and local voice control which works offline\\n\\n\\nThis is a smart fridge with built in cameras and sensors. You can control the temperature, look inside the fridge remotely and even mirror your TV or smartphone on its 21-inch screen\\n\\n\\nLaunched in India in April 2018, the Google Home speaker has a 360 degree design like Echo Plus2, but comes with the Google Assistant. Its voice match feature can identity voice and one can control compatible IoT devices with it.\\n\\n\\nThe ROG Zephyrus is one of the slimmest and lightest notebooks driven by Nvidia’s top-of-the- line GTX 1080 graphics.'],\n       ['\"Imagine if every message you sent was kept with a record of the fact that you sent it and with a record of your phone number. That would not be a place for private communications,\" said a WhatsApp spokesperson.\\n\\n\\nWhatsApp is removing over two million accounts per month for bulk or automated behaviour -- over 75 per cent without a recent user report.\\n\\n\\n\"These efforts are particularly important during elections where certain groups may attempt to send messages at scale,\" said the company.'],\n       ['Positioned along the four sides of the Asus ROG Phone are four haptic sensors that function as shoulder buttons or the L1 and R1 buttons on a gamepad\\n\\n\\nThe Asus ROG phone is priced at ₹69,999 and comes in a single variant with 8GB RAM and 128GB internal storage. Offers on the phone include no-cost EMI, Jio ₹5,000 cashback+4GB data per day plan on recharge of ₹509\\n\\n\\nmint-india-wire Asus ROG PhoneAsusAsus ROG Phone IndiaAsus ROG Phone India priceAsus ROG Phone India accessoriesAsus ROG Phone cooling\\n\\n\\nTaiwanese electronics giant Asus on Thursday launched its much anticipated gaming smartphone, the ROG Phone. The Asus ROG phone is priced at ₹ 69,999 and comes in a single variant with 8GB RAM and 128GB internal storage. The 512GB variant of the ROG Phone will not make it to India.\\n\\n\\nAsus is making customer care the priority for this device, providing invoice free walk-in, free pick-up and drop and device swap at service centres just in case your smartphone is faulty or damaged. The phone will be available exclusively on Flipkart. Offers on the phone include no-cost EMI, Jio ₹ 5,000 cashback+4GB data per day plan on recharge of ₹ 509.'],\n       ['In fact, when I applied to USC film school they had a thing that asked you to write three ideas for films\\n\\n\\n”In 2002, Boyz N the Hood was added to the National Film Registry by the Library of Congress, which called it “an innovative look at life and the tough choices present for kids growing up in South Central Los Angeles\\n\\n\\n”Singleton’s death on Monday followed a turbulent week during which his family members made opposing court filings regarding his health\\n\\n\\n A court filing last week by his mother, Shelia Ward, requested she be appointed Singleton’s temporary conservator to make medical and financial decisions while he was incapacitated\\n\\n\\n But on Friday, Singleton’s daughter Cleopatra Singleton, 19, filed a declaration disputing that account\\n\\n\\n She maintained that her father was not in a coma and that doctors did not “have a concrete diagnosis\\n\\n\\n Jackson said, “blazed the trail for many young film makers,” while “always remaining true to who he was and where he came from\\n\\n\\n” Jordan Peele, the Oscar-winning Get Out and Us filmmaker, called him “a brave artist and a true inspiration\\n\\n\\n”“Your love for the black experience was contagious and I would never be the man I am without knowing you,” Ice Cube said in a statement'],\n       [\"As spotted by Android Police, Netflix is testing the 'Random Episode' button that allows you to randomly select something to watch. The button is tucked in the playback controls where a shuffle icon has the said label on it.\"],\n       ['Her moves were immaculately choreographed as she used her dragonglass spear that Gendry made for her like it was made of lightning\\n\\n\\nAlso Read | Game of Thrones’ Battle of Winterfell: Here is everyone who diedNight King does his raising-the-dead-using-hands thing: The Night King can reanimate the dead on purpose\\n\\n\\n He raised his hands in the same fashion and the dead people — like Lyanna Mormont — rose up as the undead']],\n      dtype=object)"
     },
     "metadata": {},
     "execution_count": 116
    }
   ],
   "source": [
    "x_test = df_test.values\n",
    "x_test[:10]"
   ]
  },
  {
   "cell_type": "code",
   "execution_count": 124,
   "metadata": {},
   "outputs": [],
   "source": [
    "x_test = x_test.flatten()\n",
    "test_digit_less = [full_removal(x, digits_str) for x in x_test]"
   ]
  },
  {
   "cell_type": "code",
   "execution_count": 125,
   "metadata": {
    "tags": []
   },
   "outputs": [
    {
     "output_type": "execute_result",
     "data": {
      "text/plain": "array(['2019 will see gadgets like gaming smartphones and wearable medical devices lifting the user experience to a whole new level\\n\\n\\nmint-india-wire consumer technologyconsumer technology trends in New Yeartech gadgetsFoldable phonesgaming smartphoneswearable medical devicestechnology\\n\\n\\nNew Delhi: Gadgets have become an integral part of our lives with most of us relying on some form of factor to communicate, commute, work, be informed or entertained. Year 2019 will see some gadgets lifting the user experience to a whole new level. Here’s what we can expect to see:\\n\\n\\nSmartphones with foldable screens: Foldable phones are finally moving from the concept stage to commercial launches. They are made up of organic light-emitting diode (OLED) panels with higher plastic substrates, allowing them to be bent without damage.\\n\\n\\nUS-based display maker Royole Corp’s foldable phone, FlexPai, has already arrived in select markets, while Samsung’s unnamed foldable phone is expected sometime next year. Samsung’s smartphone chief executive officer D.J. Koh has said they will make a million units of it. LG, too, is expected to display a foldable phone next year. Meanwhile Apple, Nokia, Lenovo and Huawei have also been working on foldable phones, reportedly.\\n\\n\\neSIM: Very soon your smartphone won’t need a physical SIM card anymore. The eSIM technology, already used by Apple in its iPhones and Apple Watch, replaces the physical SIM with a virtually embedded chip on the motherboard. eSIMs support multiple mobile operators and can be programmed to switch services.',\n       'It has also unleashed a wave of changes in the MCU that will make sure its future is a lot different than its past\\n\\n\\nKevin Feige had signalled diversity and more representation in the post-phase 3 MCU and Endgame does a lot to showcase the initiative',\n       'It can be confusing to pick the right smartphone for yourself, so we have segregated the top smartphones under Rs 20,000 according to their strengths.\\n\\n\\nThe best smartphones under ₹20,000 categorised according to performance, camera, design and battery life\\n\\n\\nmint-india-wire phones under Rs 20000Poco F1Realme U1Redmi Note 6 Prorealme 2 proHonor PlayNokia 7.1Nova 3iAsus Zenfone Max Pro M1\\n\\n\\nGone are the days when you had to shell out big buck for buying smartphones with premium features. Technology has become more accessible recently and the biggest example of that lies in the sub-Rs 20,000 category—you get good performance, design and even software at a reasonable price.\\n\\n\\nIt can be confusing to pick the right smartphone for you, however, given the amount of variety that lies in the segment. So we have segregated the top smartphones under ₹ 20,000 according to their strengths, so you can pick the one that suits you best.\\n\\n\\nThis phone actually lies just north of the ₹ 20,000 price point. But if you have an HDFC debit or credit card, you can purchase the lowest spec variant with 6GB RAM and 64GB internal storage for as low as ₹ 19,999, making it the cheapest smartphone to run a Qualcomm Snapdragon 845 SoC. There’s not a lot to not like about this phone—it has the fastest processor Qualcomm has to offer, some thermal trickery to keep your smartphone cool during intense gaming sessions, a very good camera and some durable plastic that doesn’t shatter or pick up scratches.\\n\\n\\nIt even gets a modded version of the MIUI with an app drawer that allows you colour code your applications.',\n       'The mobile application is integrated with a dashboard to confirm and register the pre-registered cases, to enable online interface between the beneficiary and the panel lawyer through video conferencing and telephone facility.\\n\\n\\nPrasad said that a pilot project in this regard had proved useful and more than 50,000 people have already availed this service. Till January, it resulted in enabling legal advice to 49,192 beneficiaries that include 36,526 (Women), 7049 (SC) and 13970 (ST) in 11 states including Uttar Pradesh, Bihar and all North-Eastern states and the State of Jammu and Kashmir, he said.\\n\\n\\nThe law minister was of the view that pro bono appearances by lawyers should be considered as a criteria for appointment as judges. He was also of the view that there was a need for legal literacy in India.',\n       'We have rounded up some of the gadgets that showed up in 2018 and left an indelible mark on, consumers, experts and the tech industry\\n\\n\\nYoungsters playing PUBG Mobile on their smartphone for hours, elderly switching off the lights using voice or a family watching their favourite movie in 4K HDR on Netflix are some of the habits which were shaped by the gadgets around them. We have rounded up some of the gadgets that showed up in 2018 and left an indelible mark on, consumers, experts and the tech industry .\\n\\n\\nThe Echo Plus 2 takes the whole IoT experience up by a few notches with features such as Zigbee smart hub which can find IoT products on its own, the temperature sensor and local voice control which works offline\\n\\n\\nThis is a smart fridge with built in cameras and sensors. You can control the temperature, look inside the fridge remotely and even mirror your TV or smartphone on its 21-inch screen\\n\\n\\nLaunched in India in April 2018, the Google Home speaker has a 360 degree design like Echo Plus2, but comes with the Google Assistant. Its voice match feature can identity voice and one can control compatible IoT devices with it.\\n\\n\\nThe ROG Zephyrus is one of the slimmest and lightest notebooks driven by Nvidia’s top-of-the- line GTX 1080 graphics.',\n       '\"Imagine if every message you sent was kept with a record of the fact that you sent it and with a record of your phone number. That would not be a place for private communications,\" said a WhatsApp spokesperson.\\n\\n\\nWhatsApp is removing over two million accounts per month for bulk or automated behaviour -- over 75 per cent without a recent user report.\\n\\n\\n\"These efforts are particularly important during elections where certain groups may attempt to send messages at scale,\" said the company.',\n       'Positioned along the four sides of the Asus ROG Phone are four haptic sensors that function as shoulder buttons or the L1 and R1 buttons on a gamepad\\n\\n\\nThe Asus ROG phone is priced at ₹69,999 and comes in a single variant with 8GB RAM and 128GB internal storage. Offers on the phone include no-cost EMI, Jio ₹5,000 cashback+4GB data per day plan on recharge of ₹509\\n\\n\\nmint-india-wire Asus ROG PhoneAsusAsus ROG Phone IndiaAsus ROG Phone India priceAsus ROG Phone India accessoriesAsus ROG Phone cooling\\n\\n\\nTaiwanese electronics giant Asus on Thursday launched its much anticipated gaming smartphone, the ROG Phone. The Asus ROG phone is priced at ₹ 69,999 and comes in a single variant with 8GB RAM and 128GB internal storage. The 512GB variant of the ROG Phone will not make it to India.\\n\\n\\nAsus is making customer care the priority for this device, providing invoice free walk-in, free pick-up and drop and device swap at service centres just in case your smartphone is faulty or damaged. The phone will be available exclusively on Flipkart. Offers on the phone include no-cost EMI, Jio ₹ 5,000 cashback+4GB data per day plan on recharge of ₹ 509.',\n       'In fact, when I applied to USC film school they had a thing that asked you to write three ideas for films\\n\\n\\n”In 2002, Boyz N the Hood was added to the National Film Registry by the Library of Congress, which called it “an innovative look at life and the tough choices present for kids growing up in South Central Los Angeles\\n\\n\\n”Singleton’s death on Monday followed a turbulent week during which his family members made opposing court filings regarding his health\\n\\n\\n A court filing last week by his mother, Shelia Ward, requested she be appointed Singleton’s temporary conservator to make medical and financial decisions while he was incapacitated\\n\\n\\n But on Friday, Singleton’s daughter Cleopatra Singleton, 19, filed a declaration disputing that account\\n\\n\\n She maintained that her father was not in a coma and that doctors did not “have a concrete diagnosis\\n\\n\\n Jackson said, “blazed the trail for many young film makers,” while “always remaining true to who he was and where he came from\\n\\n\\n” Jordan Peele, the Oscar-winning Get Out and Us filmmaker, called him “a brave artist and a true inspiration\\n\\n\\n”“Your love for the black experience was contagious and I would never be the man I am without knowing you,” Ice Cube said in a statement',\n       \"As spotted by Android Police, Netflix is testing the 'Random Episode' button that allows you to randomly select something to watch. The button is tucked in the playback controls where a shuffle icon has the said label on it.\",\n       'Her moves were immaculately choreographed as she used her dragonglass spear that Gendry made for her like it was made of lightning\\n\\n\\nAlso Read | Game of Thrones’ Battle of Winterfell: Here is everyone who diedNight King does his raising-the-dead-using-hands thing: The Night King can reanimate the dead on purpose\\n\\n\\n He raised his hands in the same fashion and the dead people — like Lyanna Mormont — rose up as the undead'],\n      dtype=object)"
     },
     "metadata": {},
     "execution_count": 125
    }
   ],
   "source": [
    "x_test[:10]"
   ]
  },
  {
   "cell_type": "code",
   "execution_count": 129,
   "metadata": {},
   "outputs": [],
   "source": [
    "test_punc_less = [full_removal(x,punc) for x in test_digit_less]"
   ]
  },
  {
   "cell_type": "code",
   "execution_count": 128,
   "metadata": {},
   "outputs": [
    {
     "output_type": "execute_result",
     "data": {
      "text/plain": "'     will see gadgets like gaming smartphones and wearable medical devices lifting the user experience to a whole new level\\n\\n\\nmint-india-wire consumer technologyconsumer technology trends in New Yeartech gadgetsFoldable phonesgaming smartphoneswearable medical devicestechnology\\n\\n\\nNew Delhi: Gadgets have become an integral part of our lives with most of us relying on some form of factor to communicate, commute, work, be informed or entertained. Year      will see some gadgets lifting the user experience to a whole new level. Here’s what we can expect to see:\\n\\n\\nSmartphones with foldable screens: Foldable phones are finally moving from the concept stage to commercial launches. They are made up of organic light-emitting diode (OLED) panels with higher plastic substrates, allowing them to be bent without damage.\\n\\n\\nUS-based display maker Royole Corp’s foldable phone, FlexPai, has already arrived in select markets, while Samsung’s unnamed foldable phone is expected sometime next year. Samsung’s smartphone chief executive officer D.J. Koh has said they will make a million units of it. LG, too, is expected to display a foldable phone next year. Meanwhile Apple, Nokia, Lenovo and Huawei have also been working on foldable phones, reportedly.\\n\\n\\neSIM: Very soon your smartphone won’t need a physical SIM card anymore. The eSIM technology, already used by Apple in its iPhones and Apple Watch, replaces the physical SIM with a virtually embedded chip on the motherboard. eSIMs support multiple mobile operators and can be programmed to switch services.'"
     },
     "metadata": {},
     "execution_count": 128
    }
   ],
   "source": [
    "test_digit_less[0]"
   ]
  },
  {
   "cell_type": "code",
   "execution_count": 130,
   "metadata": {},
   "outputs": [
    {
     "output_type": "execute_result",
     "data": {
      "text/plain": "'     will see gadgets like gaming smartphones and wearable medical devices lifting the user experience to a whole new level   mint india wire consumer technologyconsumer technology trends in New Yeartech gadgetsFoldable phonesgaming smartphoneswearable medical devicestechnology   New Delhi  Gadgets have become an integral part of our lives with most of us relying on some form of factor to communicate  commute  work  be informed or entertained  Year      will see some gadgets lifting the user experience to a whole new level  Here s what we can expect to see    Smartphones with foldable screens  Foldable phones are finally moving from the concept stage to commercial launches  They are made up of organic light emitting diode  OLED  panels with higher plastic substrates  allowing them to be bent without damage    US based display maker Royole Corp s foldable phone  FlexPai  has already arrived in select markets  while Samsung s unnamed foldable phone is expected sometime next year  Samsung s smartphone chief executive officer D J  Koh has said they will make a million units of it  LG  too  is expected to display a foldable phone next year  Meanwhile Apple  Nokia  Lenovo and Huawei have also been working on foldable phones  reportedly    eSIM  Very soon your smartphone won t need a physical SIM card anymore  The eSIM technology  already used by Apple in its iPhones and Apple Watch  replaces the physical SIM with a virtually embedded chip on the motherboard  eSIMs support multiple mobile operators and can be programmed to switch services '"
     },
     "metadata": {},
     "execution_count": 130
    }
   ],
   "source": [
    "test_punc_less[0]"
   ]
  },
  {
   "cell_type": "code",
   "execution_count": 131,
   "metadata": {},
   "outputs": [
    {
     "output_type": "execute_result",
     "data": {
      "text/plain": "'     will see gadgets like gaming smartphones and wearable medical devices lifting the user experience to a whole new level   mint india wire consumer technologyconsumer technology trends in new yeartech gadgetsfoldable phonesgaming smartphoneswearable medical devicestechnology   new delhi  gadgets have become an integral part of our lives with most of us relying on some form of factor to communicate  commute  work  be informed or entertained  year      will see some gadgets lifting the user experience to a whole new level  here s what we can expect to see    smartphones with foldable screens  foldable phones are finally moving from the concept stage to commercial launches  they are made up of organic light emitting diode  oled  panels with higher plastic substrates  allowing them to be bent without damage    us based display maker royole corp s foldable phone  flexpai  has already arrived in select markets  while samsung s unnamed foldable phone is expected sometime next year  samsung s smartphone chief executive officer d j  koh has said they will make a million units of it  lg  too  is expected to display a foldable phone next year  meanwhile apple  nokia  lenovo and huawei have also been working on foldable phones  reportedly    esim  very soon your smartphone won t need a physical sim card anymore  the esim technology  already used by apple in its iphones and apple watch  replaces the physical sim with a virtually embedded chip on the motherboard  esims support multiple mobile operators and can be programmed to switch services '"
     },
     "metadata": {},
     "execution_count": 131
    }
   ],
   "source": [
    "test_lower = [x.lower() for x in test_punc_less]\n",
    "test_lower[0]"
   ]
  },
  {
   "cell_type": "code",
   "execution_count": 132,
   "metadata": {},
   "outputs": [],
   "source": [
    "test_split = [x.split() for x in test_lower]"
   ]
  },
  {
   "cell_type": "code",
   "execution_count": 136,
   "metadata": {},
   "outputs": [
    {
     "output_type": "execute_result",
     "data": {
      "text/plain": "['will',\n 'see',\n 'gadgets',\n 'like',\n 'gaming',\n 'smartphones',\n 'and',\n 'wearable',\n 'medical',\n 'devices',\n 'lifting',\n 'the',\n 'user',\n 'experience',\n 'to',\n 'a',\n 'whole',\n 'new',\n 'level',\n 'mint',\n 'india',\n 'wire',\n 'consumer',\n 'technologyconsumer',\n 'technology',\n 'trends',\n 'in',\n 'new',\n 'yeartech',\n 'gadgetsfoldable',\n 'phonesgaming',\n 'smartphoneswearable',\n 'medical',\n 'devicestechnology',\n 'new',\n 'delhi',\n 'gadgets',\n 'have',\n 'become',\n 'an',\n 'integral',\n 'part',\n 'of',\n 'our',\n 'lives',\n 'with',\n 'most',\n 'of',\n 'us',\n 'relying',\n 'on',\n 'some',\n 'form',\n 'of',\n 'factor',\n 'to',\n 'communicate',\n 'commute',\n 'work',\n 'be',\n 'informed',\n 'or',\n 'entertained',\n 'year',\n 'will',\n 'see',\n 'some',\n 'gadgets',\n 'lifting',\n 'the',\n 'user',\n 'experience',\n 'to',\n 'a',\n 'whole',\n 'new',\n 'level',\n 'here',\n 's',\n 'what',\n 'we',\n 'can',\n 'expect',\n 'to',\n 'see',\n 'smartphones',\n 'with',\n 'foldable',\n 'screens',\n 'foldable',\n 'phones',\n 'are',\n 'finally',\n 'moving',\n 'from',\n 'the',\n 'concept',\n 'stage',\n 'to',\n 'commercial',\n 'launches',\n 'they',\n 'are',\n 'made',\n 'up',\n 'of',\n 'organic',\n 'light',\n 'emitting',\n 'diode',\n 'oled',\n 'panels',\n 'with',\n 'higher',\n 'plastic',\n 'substrates',\n 'allowing',\n 'them',\n 'to',\n 'be',\n 'bent',\n 'without',\n 'damage',\n 'us',\n 'based',\n 'display',\n 'maker',\n 'royole',\n 'corp',\n 's',\n 'foldable',\n 'phone',\n 'flexpai',\n 'has',\n 'already',\n 'arrived',\n 'in',\n 'select',\n 'markets',\n 'while',\n 'samsung',\n 's',\n 'unnamed',\n 'foldable',\n 'phone',\n 'is',\n 'expected',\n 'sometime',\n 'next',\n 'year',\n 'samsung',\n 's',\n 'smartphone',\n 'chief',\n 'executive',\n 'officer',\n 'd',\n 'j',\n 'koh',\n 'has',\n 'said',\n 'they',\n 'will',\n 'make',\n 'a',\n 'million',\n 'units',\n 'of',\n 'it',\n 'lg',\n 'too',\n 'is',\n 'expected',\n 'to',\n 'display',\n 'a',\n 'foldable',\n 'phone',\n 'next',\n 'year',\n 'meanwhile',\n 'apple',\n 'nokia',\n 'lenovo',\n 'and',\n 'huawei',\n 'have',\n 'also',\n 'been',\n 'working',\n 'on',\n 'foldable',\n 'phones',\n 'reportedly',\n 'esim',\n 'very',\n 'soon',\n 'your',\n 'smartphone',\n 'won',\n 't',\n 'need',\n 'a',\n 'physical',\n 'sim',\n 'card',\n 'anymore',\n 'the',\n 'esim',\n 'technology',\n 'already',\n 'used',\n 'by',\n 'apple',\n 'in',\n 'its',\n 'iphones',\n 'and',\n 'apple',\n 'watch',\n 'replaces',\n 'the',\n 'physical',\n 'sim',\n 'with',\n 'a',\n 'virtually',\n 'embedded',\n 'chip',\n 'on',\n 'the',\n 'motherboard',\n 'esims',\n 'support',\n 'multiple',\n 'mobile',\n 'operators',\n 'and',\n 'can',\n 'be',\n 'programmed',\n 'to',\n 'switch',\n 'services']"
     },
     "metadata": {},
     "execution_count": 136
    }
   ],
   "source": [
    "test_split[0]"
   ]
  },
  {
   "cell_type": "code",
   "execution_count": 133,
   "metadata": {},
   "outputs": [
    {
     "output_type": "execute_result",
     "data": {
      "text/plain": "['the', 'a', 'an', 'i', 'he', 'she', 'they', 'to', 'of', 'it', 'from']"
     },
     "metadata": {},
     "execution_count": 133
    }
   ],
   "source": [
    "stop_words"
   ]
  },
  {
   "cell_type": "code",
   "execution_count": 137,
   "metadata": {},
   "outputs": [],
   "source": [
    "test_ready = [' '.join(list(filter(lambda k:k not in stop_words,x))) for x in test_split]"
   ]
  },
  {
   "cell_type": "code",
   "execution_count": 139,
   "metadata": {},
   "outputs": [],
   "source": [
    "count_test = vectorizer.transform(test_ready)"
   ]
  },
  {
   "cell_type": "code",
   "execution_count": 140,
   "metadata": {},
   "outputs": [],
   "source": [
    "test_pred = classifier.predict(count_test)"
   ]
  },
  {
   "cell_type": "code",
   "execution_count": 138,
   "metadata": {},
   "outputs": [
    {
     "output_type": "execute_result",
     "data": {
      "text/plain": "['will see gadgets like gaming smartphones and wearable medical devices lifting user experience whole new level mint india wire consumer technologyconsumer technology trends in new yeartech gadgetsfoldable phonesgaming smartphoneswearable medical devicestechnology new delhi gadgets have become integral part our lives with most us relying on some form factor communicate commute work be informed or entertained year will see some gadgets lifting user experience whole new level here s what we can expect see smartphones with foldable screens foldable phones are finally moving concept stage commercial launches are made up organic light emitting diode oled panels with higher plastic substrates allowing them be bent without damage us based display maker royole corp s foldable phone flexpai has already arrived in select markets while samsung s unnamed foldable phone is expected sometime next year samsung s smartphone chief executive officer d j koh has said will make million units lg too is expected display foldable phone next year meanwhile apple nokia lenovo and huawei have also been working on foldable phones reportedly esim very soon your smartphone won t need physical sim card anymore esim technology already used by apple in its iphones and apple watch replaces physical sim with virtually embedded chip on motherboard esims support multiple mobile operators and can be programmed switch services',\n 'has also unleashed wave changes in mcu that will make sure its future is lot different than its past kevin feige had signalled diversity and more representation in post phase mcu and endgame does lot showcase initiative',\n 'can be confusing pick right smartphone for yourself so we have segregated top smartphones under rs according their strengths best smartphones under ₹ categorised according performance camera design and battery life mint india wire phones under rs poco f realme u redmi note prorealme prohonor playnokia nova iasus zenfone max pro m gone are days when you had shell out big buck for buying smartphones with premium features technology has become more accessible recently and biggest example that lies in sub rs category—you get good performance design and even software at reasonable price can be confusing pick right smartphone for you however given amount variety that lies in segment so we have segregated top smartphones under ₹ according their strengths so you can pick one that suits you best this phone actually lies just north ₹ price point but if you have hdfc debit or credit card you can purchase lowest spec variant with gb ram and gb internal storage for as low as ₹ making cheapest smartphone run qualcomm snapdragon soc there s not lot not like about this phone—it has fastest processor qualcomm has offer some thermal trickery keep your smartphone cool during intense gaming sessions very good camera and some durable plastic that doesn t shatter or pick up scratches even gets modded version miui with app drawer that allows you colour code your applications',\n 'mobile application is integrated with dashboard confirm and register pre registered cases enable online interface between beneficiary and panel lawyer through video conferencing and telephone facility prasad said that pilot project in this regard had proved useful and more than people have already availed this service till january resulted in enabling legal advice beneficiaries that include women sc and st in states including uttar pradesh bihar and all north eastern states and state jammu and kashmir said law minister was view that pro bono appearances by lawyers should be considered as criteria for appointment as judges was also view that there was need for legal literacy in india',\n 'we have rounded up some gadgets that showed up in and left indelible mark on consumers experts and tech industry youngsters playing pubg mobile on their smartphone for hours elderly switching off lights using voice or family watching their favourite movie in k hdr on netflix are some habits which were shaped by gadgets around them we have rounded up some gadgets that showed up in and left indelible mark on consumers experts and tech industry echo plus takes whole iot experience up by few notches with features such as zigbee smart hub which can find iot products on its own temperature sensor and local voice control which works offline this is smart fridge with built in cameras and sensors you can control temperature look inside fridge remotely and even mirror your tv or smartphone on its inch screen launched in india in april google home speaker has degree design like echo plus but comes with google assistant its voice match feature can identity voice and one can control compatible iot devices with rog zephyrus is one slimmest and lightest notebooks driven by nvidia s top line gtx graphics',\n 'imagine if every message you sent was kept with record fact that you sent and with record your phone number that would not be place for private communications said whatsapp spokesperson whatsapp is removing over two million accounts per month for bulk or automated behaviour over per cent without recent user report these efforts are particularly important during elections where certain groups may attempt send messages at scale said company',\n 'positioned along four sides asus rog phone are four haptic sensors that function as shoulder buttons or l and r buttons on gamepad asus rog phone is priced at ₹ and comes in single variant with gb ram and gb internal storage offers on phone include no cost emi jio ₹ cashback gb data per day plan on recharge ₹ mint india wire asus rog phoneasusasus rog phone indiaasus rog phone india priceasus rog phone india accessoriesasus rog phone cooling taiwanese electronics giant asus on thursday launched its much anticipated gaming smartphone rog phone asus rog phone is priced at ₹ and comes in single variant with gb ram and gb internal storage gb variant rog phone will not make india asus is making customer care priority for this device providing invoice free walk in free pick up and drop and device swap at service centres just in case your smartphone is faulty or damaged phone will be available exclusively on flipkart offers on phone include no cost emi jio ₹ cashback gb data per day plan on recharge ₹',\n 'in fact when applied usc film school had thing that asked you write three ideas for films ”in boyz n hood was added national film registry by library congress which called innovative look at life and tough choices present for kids growing up in south central los angeles ”singleton s death on monday followed turbulent week during which his family members made opposing court filings regarding his health court filing last week by his mother shelia ward requested be appointed singleton s temporary conservator make medical and financial decisions while was incapacitated but on friday singleton s daughter cleopatra singleton filed declaration disputing that account maintained that her father was not in coma and that doctors did not have concrete diagnosis jackson said blazed trail for many young film makers ” while always remaining true who was and where came ” jordan peele oscar winning get out and us filmmaker called him brave artist and true inspiration ” your love for black experience was contagious and would never be man am without knowing you ” ice cube said in statement',\n 'as spotted by android police netflix is testing random episode button that allows you randomly select something watch button is tucked in playback controls where shuffle icon has said label on',\n 'her moves were immaculately choreographed as used her dragonglass spear that gendry made for her like was made lightning also read game thrones battle winterfell here is everyone who diednight king does his raising dead using hands thing night king can reanimate dead on purpose raised his hands in same fashion and dead people — like lyanna mormont — rose up as undead']"
     },
     "metadata": {},
     "execution_count": 138
    }
   ],
   "source": [
    "test_ready[:10]"
   ]
  },
  {
   "cell_type": "code",
   "execution_count": 141,
   "metadata": {},
   "outputs": [
    {
     "output_type": "execute_result",
     "data": {
      "text/plain": "array([1, 2, 1, 0, 1, 1, 1, 2, 1, 2], dtype=int64)"
     },
     "metadata": {},
     "execution_count": 141
    }
   ],
   "source": [
    "test_pred[:10]"
   ]
  },
  {
   "cell_type": "code",
   "execution_count": 142,
   "metadata": {},
   "outputs": [],
   "source": [
    "news_classifier = pd.DataFrame(test_pred,columns=['SECTION'],index=None)"
   ]
  },
  {
   "cell_type": "code",
   "execution_count": 147,
   "metadata": {},
   "outputs": [],
   "source": [
    "pd.DataFrame(news_classifier).to_excel('submission.xlsx',columns=['SECTION'],index=False)"
   ]
  },
  {
   "cell_type": "code",
   "execution_count": 148,
   "metadata": {},
   "outputs": [
    {
     "output_type": "execute_result",
     "data": {
      "text/plain": "SGDClassifier(alpha=0.0001, average=False, class_weight=None,\n              early_stopping=False, epsilon=0.1, eta0=0.0, fit_intercept=True,\n              l1_ratio=0.15, learning_rate='optimal', loss='log', max_iter=1000,\n              n_iter_no_change=5, n_jobs=None, penalty='none', power_t=0.5,\n              random_state=None, shuffle=True, tol=0.001,\n              validation_fraction=0.1, verbose=0, warm_start=False)"
     },
     "metadata": {},
     "execution_count": 148
    }
   ],
   "source": [
    "from sklearn.linear_model import SGDClassifier\n",
    "\n",
    "sgdclassifier = SGDClassifier(loss='log', penalty = 'none')\n",
    "sgdclassifier.fit(count,y)"
   ]
  },
  {
   "cell_type": "code",
   "execution_count": 149,
   "metadata": {},
   "outputs": [],
   "source": [
    "train_pred_sgd = sgdclassifier.predict(count)"
   ]
  },
  {
   "cell_type": "code",
   "execution_count": 150,
   "metadata": {
    "tags": []
   },
   "outputs": [
    {
     "output_type": "stream",
     "name": "stdout",
     "text": "0.9964604090194022\n"
    }
   ],
   "source": [
    "print(accuracy_score(y,train_pred_sgd))"
   ]
  },
  {
   "cell_type": "code",
   "execution_count": 152,
   "metadata": {},
   "outputs": [],
   "source": [
    "test_pred_sgd = sgdclassifier.predict(count_test)\n",
    "news_classifier_sgd = pd.DataFrame(test_pred_sgd,columns=['SECTION'],index=None)\n",
    "pd.DataFrame(news_classifier_sgd).to_excel('submission_sgd.xlsx',columns=['SECTION'],index=False)"
   ]
  },
  {
   "cell_type": "code",
   "execution_count": 153,
   "metadata": {
    "tags": []
   },
   "outputs": [
    {
     "output_type": "stream",
     "name": "stdout",
     "text": "0.9976402726796014\n"
    }
   ],
   "source": [
    "from sklearn.linear_model import LogisticRegression\n",
    "\n",
    "lclassifier = LogisticRegression()\n",
    "lclassifier.fit(count,y)\n",
    "train_pred_log = lclassifier.predict(count)\n",
    "print(accuracy_score(y,train_pred_log))"
   ]
  },
  {
   "cell_type": "code",
   "execution_count": 154,
   "metadata": {},
   "outputs": [],
   "source": [
    "test_pred_log = lclassifier.predict(count_test)\n",
    "news_classifier_log = pd.DataFrame(test_pred_log,columns=['SECTION'],index=None)\n",
    "pd.DataFrame(news_classifier_log).to_excel('submission_log.xlsx',columns=['SECTION'],index=False)"
   ]
  },
  {
   "cell_type": "code",
   "execution_count": null,
   "metadata": {},
   "outputs": [],
   "source": []
  }
 ]
}